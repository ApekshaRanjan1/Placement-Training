{
 "cells": [
  {
   "cell_type": "code",
   "execution_count": 6,
   "metadata": {},
   "outputs": [
    {
     "name": "stdout",
     "output_type": "stream",
     "text": [
      "Total seconds: 3728419\n",
      "The time will be 43 : 3 : 40 : 19\n"
     ]
    }
   ],
   "source": [
    "#Time Conversion\n",
    "#Write a program that takes a time in seconds and converts it into days, hours, minutes, and seconds.\n",
    "#op= d:h:m:S\n",
    "#process: \n",
    "#day=24 hrs=24*60 min=24*60*60 secs\n",
    "#hr=60 mins=s//60*60\n",
    "#min=60 secs\n",
    "#ip: s\n",
    "\n",
    "s=int(input(\"Enter the secs:\"))\n",
    "print(\"Total seconds:\",s)\n",
    "day=s//(24*60*60)\n",
    "s=s%(24*60*60)\n",
    "hr=s//(60*60)\n",
    "s=s%(60*60)\n",
    "min=s//60\n",
    "s=s%60\n",
    "print(\"The time will be\",day,\":\",hr,\":\",min,\":\",s)"
   ]
  },
  {
   "cell_type": "code",
   "execution_count": 7,
   "metadata": {},
   "outputs": [
    {
     "name": "stdout",
     "output_type": "stream",
     "text": [
      "87432\n"
     ]
    }
   ],
   "source": [
    "# Reverse Digits\n",
    "# Take a number as input and print its digits in reverse order without converting it to a string.\n",
    "#456%10=6\n",
    "#rev=0+6\n",
    "#45%10=5\n",
    "#rev=50+6\n",
    "n=int(input(\"No:\"))\n",
    "rev=0\n",
    "while n!=0:\n",
    "    x=n%10\n",
    "    rev=rev*10+x\n",
    "    n=n//10\n",
    "print(rev)\n",
    "    \n",
    "    \n",
    "    \n"
   ]
  },
  {
   "cell_type": "code",
   "execution_count": 9,
   "metadata": {},
   "outputs": [
    {
     "name": "stdout",
     "output_type": "stream",
     "text": [
      "4 * 1 = 4\n",
      "4 * 2 = 8\n",
      "4 * 3 = 12\n",
      "4 * 4 = 16\n",
      "4 * 5 = 20\n",
      "4 * 6 = 24\n",
      "4 * 7 = 28\n",
      "4 * 8 = 32\n",
      "4 * 9 = 36\n",
      "4 * 10 = 40\n",
      "4 * 11 = 44\n",
      "4 * 12 = 48\n",
      "4 * 13 = 52\n",
      "4 * 14 = 56\n",
      "4 * 15 = 60\n",
      "4 * 16 = 64\n",
      "4 * 17 = 68\n",
      "4 * 18 = 72\n",
      "4 * 19 = 76\n",
      "4 * 20 = 80\n"
     ]
    }
   ],
   "source": [
    "#Multiplication Table\n",
    "# Generate the multiplication table for a given number up to 20 rows.\n",
    "n=int(input(\"No:\"))\n",
    "for i in range (1,21):\n",
    "    print(n,\"*\",i,\"=\",n*i)"
   ]
  },
  {
   "cell_type": "code",
   "execution_count": 28,
   "metadata": {},
   "outputs": [
    {
     "name": "stdout",
     "output_type": "stream",
     "text": [
      "feeling something something hello honey bunny\n",
      "Vowel= 14\n",
      "Consonents= 26\n"
     ]
    }
   ],
   "source": [
    "# Count Vowels and Consonants\n",
    "# Write a program to count the vowels and consonants in a given string.\n",
    "s=input(\"Enter:\")\n",
    "v=0\n",
    "c=0\n",
    "st=list(s)\n",
    "for i in st:\n",
    "    if i in 'aeiou':\n",
    "        v+=1\n",
    "    elif i!=\" \":\n",
    "        c+=1\n",
    "print(s)\n",
    "print(\"Vowel=\",v)\n",
    "print(\"Consonents=\",c) \n",
    "    \n",
    "    "
   ]
  },
  {
   "cell_type": "code",
   "execution_count": 29,
   "metadata": {},
   "outputs": [
    {
     "name": "stdout",
     "output_type": "stream",
     "text": [
      "7\n",
      "14\n",
      "21\n",
      "28\n",
      "35\n",
      "42\n",
      "49\n",
      "56\n",
      "63\n",
      "70\n",
      "77\n",
      "84\n",
      "91\n",
      "98\n",
      "105\n",
      "112\n",
      "119\n",
      "126\n",
      "133\n",
      "140\n"
     ]
    }
   ],
   "source": [
    "n=int(input(\"enter a number: \"))\n",
    "for i in range(n,n*21,n):\n",
    "    print(i)\n"
   ]
  },
  {
   "cell_type": "code",
   "execution_count": 48,
   "metadata": {},
   "outputs": [
    {
     "name": "stdout",
     "output_type": "stream",
     "text": [
      "1\n",
      "2\n",
      "3\n",
      "4\n",
      "5\n",
      "6\n",
      "7\n",
      "8\n",
      "9\n",
      "153\n",
      "370\n",
      "371\n",
      "407\n"
     ]
    }
   ],
   "source": [
    "# Armstrong Numbers in Range\n",
    "# List all Armstrong numbers between two given numbers.\n",
    "# 153=1^3+5^3+3^3\n",
    "a=int(input(\"No1:\"))\n",
    "a1=a\n",
    "b=(int(input(\"No2:\")))\n",
    "for i in range (a,b+1):\n",
    "    c=0\n",
    "    sum=0\n",
    "    i1=i\n",
    "    while i1!=0:\n",
    "        i1=i1//10\n",
    "        c+=1\n",
    "    i1=i\n",
    "    while i1!=0:\n",
    "        x=i1%10\n",
    "        sum=sum+(x**c)\n",
    "        i1=i1//10\n",
    "    if sum==i:\n",
    "        print(i)\n",
    "    \n",
    "        \n",
    "    \n",
    "        \n"
   ]
  },
  {
   "cell_type": "code",
   "execution_count": 43,
   "metadata": {},
   "outputs": [
    {
     "name": "stdout",
     "output_type": "stream",
     "text": [
      "2311\n",
      "4\n",
      "30\n"
     ]
    }
   ],
   "source": [
    "a=int(input())\n",
    "print(a)\n",
    "c=0\n",
    "while a!=0:\n",
    "    a=a//10\n",
    "    c=c+1\n",
    "print(c)\n",
    "while a!=0:\n",
    "    sum=sum+(i**c)  \n",
    "print(sum)    "
   ]
  },
  {
   "cell_type": "code",
   "execution_count": 27,
   "metadata": {},
   "outputs": [
    {
     "name": "stdout",
     "output_type": "stream",
     "text": [
      "1\n",
      "4\n",
      "9\n",
      "16\n",
      "Sum= 30\n"
     ]
    }
   ],
   "source": [
    "#Sum of Squares\n",
    "# Find the sum of the squares of all numbers between 1 and n\n",
    "n=int(input(\"n=\"))\n",
    "sum=0\n",
    "for i in range(1,n+1):\n",
    "    i=i**2\n",
    "    sum+=i \n",
    "    print(i) \n",
    "print(\"Sum=\",sum)\n",
    "    "
   ]
  }
 ],
 "metadata": {
  "kernelspec": {
   "display_name": "Python 3",
   "language": "python",
   "name": "python3"
  },
  "language_info": {
   "codemirror_mode": {
    "name": "ipython",
    "version": 3
   },
   "file_extension": ".py",
   "mimetype": "text/x-python",
   "name": "python",
   "nbconvert_exporter": "python",
   "pygments_lexer": "ipython3",
   "version": "3.12.7"
  }
 },
 "nbformat": 4,
 "nbformat_minor": 2
}
