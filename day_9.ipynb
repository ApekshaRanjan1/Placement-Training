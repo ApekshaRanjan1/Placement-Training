{
 "cells": [
  {
   "cell_type": "code",
   "execution_count": 2,
   "metadata": {},
   "outputs": [
    {
     "name": "stdout",
     "output_type": "stream",
     "text": [
      "()\n",
      "<class 'tuple'>\n"
     ]
    }
   ],
   "source": [
    "#tuple\n",
    "l=tuple()\n",
    "print(l)\n",
    "print(type(l))"
   ]
  },
  {
   "cell_type": "code",
   "execution_count": 3,
   "metadata": {},
   "outputs": [
    {
     "name": "stdout",
     "output_type": "stream",
     "text": [
      "(1, 2, 3, 4, 5)\n",
      "<class 'tuple'>\n"
     ]
    }
   ],
   "source": [
    "t=1,2,3,4,5\n",
    "print(t)\n",
    "print(type(t))"
   ]
  },
  {
   "cell_type": "code",
   "execution_count": 8,
   "metadata": {},
   "outputs": [
    {
     "name": "stdout",
     "output_type": "stream",
     "text": [
      "[222, 234, 234, 332, 433, 567, 667, 4331]\n",
      "222\n",
      "4331\n"
     ]
    }
   ],
   "source": [
    "l=eval(input())\n",
    "print(sorted(l))\n",
    "print(min(l))\n",
    "print(max(l))"
   ]
  },
  {
   "cell_type": "code",
   "execution_count": 9,
   "metadata": {},
   "outputs": [
    {
     "ename": "NameError",
     "evalue": "name 'cmp' is not defined",
     "output_type": "error",
     "traceback": [
      "\u001b[1;31m---------------------------------------------------------------------------\u001b[0m",
      "\u001b[1;31mNameError\u001b[0m                                 Traceback (most recent call last)",
      "Cell \u001b[1;32mIn[9], line 5\u001b[0m\n\u001b[0;32m      3\u001b[0m t2\u001b[38;5;241m=\u001b[39m\u001b[38;5;241m40\u001b[39m,\u001b[38;5;241m50\u001b[39m,\u001b[38;5;241m60\u001b[39m\n\u001b[0;32m      4\u001b[0m t3\u001b[38;5;241m=\u001b[39m\u001b[38;5;241m10\u001b[39m,\u001b[38;5;241m20\u001b[39m,\u001b[38;5;241m30\u001b[39m\n\u001b[1;32m----> 5\u001b[0m \u001b[38;5;28mprint\u001b[39m(\u001b[43mcmp\u001b[49m(t1,t2))\n",
      "\u001b[1;31mNameError\u001b[0m: name 'cmp' is not defined"
     ]
    }
   ],
   "source": [
    "#compare function\n",
    "t=10,20,30\n",
    "t2=40,50,60\n",
    "t3=10,20,30\n",
    "print(cmp(t1,t2))"
   ]
  },
  {
   "cell_type": "code",
   "execution_count": 22,
   "metadata": {},
   "outputs": [
    {
     "name": "stdout",
     "output_type": "stream",
     "text": [
      "(1, 123, 13, 12, 3, 123)\n",
      "1\n",
      "123\n",
      "13\n",
      "12\n",
      "3\n",
      "123\n",
      "275\n",
      "45.833333333333336\n"
     ]
    }
   ],
   "source": [
    "t=1,123,13,12,3,123\n",
    "print(t)\n",
    "s=0\n",
    "for i in t:\n",
    "    print(i)\n",
    "    s=s+i\n",
    "    avg=s/len(t) \n",
    "print(s)\n",
    "print(avg)"
   ]
  },
  {
   "cell_type": "code",
   "execution_count": 23,
   "metadata": {},
   "outputs": [
    {
     "name": "stdout",
     "output_type": "stream",
     "text": [
      "{1, 2, 34, 5, 43}\n"
     ]
    }
   ],
   "source": [
    "l=[1,2,34,5,34,2,1,43,34]\n",
    "print(set(l))\n"
   ]
  },
  {
   "cell_type": "code",
   "execution_count": 21,
   "metadata": {},
   "outputs": [
    {
     "name": "stdout",
     "output_type": "stream",
     "text": [
      "set()\n",
      "<class 'set'>\n"
     ]
    }
   ],
   "source": [
    "#set\n",
    "s=set()\n",
    "print(s)\n",
    "print(type(s))"
   ]
  },
  {
   "cell_type": "code",
   "execution_count": 24,
   "metadata": {},
   "outputs": [
    {
     "name": "stdout",
     "output_type": "stream",
     "text": [
      "[1, 2, 3, 4]\n"
     ]
    }
   ],
   "source": [
    "#to eliminate duplicate in the list\n",
    "l=[1,1,2,3,4,2,2,4]\n",
    "print(list(set(l)))"
   ]
  },
  {
   "cell_type": "code",
   "execution_count": 29,
   "metadata": {},
   "outputs": [
    {
     "name": "stdout",
     "output_type": "stream",
     "text": [
      "{101: 'a', 202: 'b', 303: 'c'}\n",
      "<class 'dict'>\n"
     ]
    }
   ],
   "source": [
    "#dictionary\n",
    "d={101:\"a\",202:\"b\",303:\"c\"}\n",
    "print(d)\n",
    "print(type(d))"
   ]
  },
  {
   "cell_type": "code",
   "execution_count": 30,
   "metadata": {},
   "outputs": [
    {
     "name": "stdout",
     "output_type": "stream",
     "text": [
      "{'a': '98', 'b': '67', 'c': '87', 'd': '33'}\n",
      "a \t 98\n",
      "b \t 67\n",
      "c \t 87\n",
      "d \t 33\n"
     ]
    }
   ],
   "source": [
    "d={}\n",
    "n=int(input(\"No:\"))\n",
    "i=1\n",
    "while i<=n:\n",
    "    name=input(\"Name\")\n",
    "    marks=input(\"Marks\")\n",
    "    d[name]=marks\n",
    "    i+=1\n",
    "print(d)\n",
    "for x in d:\n",
    "    print(x,\"\\t\",d[x])"
   ]
  },
  {
   "cell_type": "code",
   "execution_count": 37,
   "metadata": {},
   "outputs": [
    {
     "name": "stdout",
     "output_type": "stream",
     "text": [
      "{'a': [100, 700], 'b': 67, 'c': 87, 'd': 33, 'e': 200}\n",
      "{'b': 67, 'c': 87, 'd': 33, 'e': 200}\n"
     ]
    }
   ],
   "source": [
    "#updating dict\n",
    "d={'a': 98, 'b': 67, 'c': 87, 'd': 33}\n",
    "d[\"a\"]= [100,700]\n",
    "d[\"e\"]=200\n",
    "print(d)\n",
    "del d[\"a\"]\n",
    "print(d)\n"
   ]
  },
  {
   "cell_type": "code",
   "execution_count": 43,
   "metadata": {},
   "outputs": [
    {
     "name": "stdout",
     "output_type": "stream",
     "text": [
      "98\n",
      "98\n",
      "Guest\n"
     ]
    }
   ],
   "source": [
    "d={'a': 98, 'b': 67, 'c': 87, 'd': 33}\n",
    "print(d[\"a\"])\n",
    "print(d.get(\"a\"))\n",
    "print(d.get(\"f\",\"Guest\"))"
   ]
  },
  {
   "cell_type": "code",
   "execution_count": 45,
   "metadata": {},
   "outputs": [
    {
     "name": "stdout",
     "output_type": "stream",
     "text": [
      "dict_keys(['a', 'b', 'c', 'd'])\n",
      "a\n",
      "b\n",
      "c\n",
      "d\n",
      "dict_values([98, 67, 87, 33])\n",
      "98\n",
      "67\n",
      "87\n",
      "33\n"
     ]
    }
   ],
   "source": [
    "d={'a': 98, 'b': 67, 'c': 87, 'd': 33}\n",
    "print(d.keys())\n",
    "for k in d.keys():\n",
    "    print(k)\n",
    "print(d.values())\n",
    "for k in d.values():\n",
    "    print(k)"
   ]
  },
  {
   "cell_type": "code",
   "execution_count": 47,
   "metadata": {},
   "outputs": [
    {
     "name": "stdout",
     "output_type": "stream",
     "text": [
      "a --> 98\n",
      "b --> 67\n",
      "c --> 87\n",
      "d --> 33\n"
     ]
    }
   ],
   "source": [
    "d={'a': 98, 'b': 67, 'c': 87, 'd': 33}\n",
    "for k,v in d.items():\n",
    "    print(k,\"-->\",v)"
   ]
  },
  {
   "cell_type": "code",
   "execution_count": null,
   "metadata": {},
   "outputs": [
    {
     "name": "stdout",
     "output_type": "stream",
     "text": [
      "{'a': 45, 'b': 34, 'c': 34, 'd': 56}\n",
      "169\n"
     ]
    }
   ],
   "source": [
    "#take dict from  keyboard and print the sum of variable\n",
    "d={}\n",
    "n=int(input(\"No:\"))\n",
    "i=1\n",
    "while i<=n:\n",
    "    name=input(\"name:\")\n",
    "    sal=s=int(input(\"Salary:\"))\n",
    "    d[name]=sal\n",
    "    i+=1\n",
    "print(d)\n",
    "s=0\n",
    "for i in d.values():\n",
    "    s+=i\n",
    "print(s)"
   ]
  },
  {
   "cell_type": "code",
   "execution_count": null,
   "metadata": {},
   "outputs": [
    {
     "name": "stdout",
     "output_type": "stream",
     "text": [
      "True\n"
     ]
    }
   ],
   "source": [
    "#if key exists in dict  \n",
    "d={'a': 98, 'b': 67, 'c': 87, 'd': 33}\n",
    "t=input()\n",
    "print(t in d.keys())\n"
   ]
  },
  {
   "cell_type": "code",
   "execution_count": null,
   "metadata": {},
   "outputs": [],
   "source": [
    "#iterate over dict keys and values\n"
   ]
  },
  {
   "cell_type": "code",
   "execution_count": 65,
   "metadata": {},
   "outputs": [
    {
     "name": "stdout",
     "output_type": "stream",
     "text": [
      "{'a': 45, 'b': 67, 'c': 56, 'd': 65, 'e': 32, 'f': 89}\n"
     ]
    }
   ],
   "source": [
    "#merge 2 dict\n",
    "d1={'a':45,'b':67,'c':56}\n",
    "d2={'d':65,'e':32,'f':89}\n",
    "d1.update(d2)\n",
    "print(d1)"
   ]
  },
  {
   "cell_type": "code",
   "execution_count": 64,
   "metadata": {},
   "outputs": [
    {
     "name": "stdout",
     "output_type": "stream",
     "text": [
      "c\n"
     ]
    }
   ],
   "source": [
    "#find key with the max value\n",
    "d={'a':45,'b':67,'c':56}\n",
    "print(max(d.keys()))"
   ]
  },
  {
   "cell_type": "code",
   "execution_count": 66,
   "metadata": {},
   "outputs": [
    {
     "name": "stdout",
     "output_type": "stream",
     "text": [
      "{45: 'a', 67: 'b', 56: 'c'}\n"
     ]
    }
   ],
   "source": [
    "#reverse a dict by keys\n",
    "#create new dict with reversed key and value pairs\n",
    "d={'a':45,'b':67,'c':56}\n",
    "new={}\n",
    "for k,v in d.items():\n",
    "    new[v]=k\n",
    "print(new)"
   ]
  },
  {
   "cell_type": "code",
   "execution_count": null,
   "metadata": {},
   "outputs": [
    {
     "name": "stdout",
     "output_type": "stream",
     "text": [
      "[2, 3, 4]\n",
      "[43, 56, 43]\n"
     ]
    }
   ],
   "source": [
    "s=int(input(\"Semesters:\"))\n",
    "no_sub=[]\n",
    "for i in range (s):\n",
    "    m=int(input(\"marks in {0} semester:\".format(i+1)))\n",
    "    no_sub.append(m)\n",
    "i=0\n",
    "print(no_sub)\n",
    "marks=[]\n",
    "for j in range (no_sub[i]):\n",
    "    len(marks)==j\n",
    "    m1=int(input(\"marks obtained in {0} semester:\".format(i+1))) \n",
    "    marks.append(m1)\n",
    "    print(marks)"
   ]
  },
  {
   "cell_type": "code",
   "execution_count": 82,
   "metadata": {},
   "outputs": [
    {
     "name": "stdout",
     "output_type": "stream",
     "text": [
      "1\n"
     ]
    }
   ],
   "source": [
    "#edit distance\n",
    "# 2 strs s and t. return minimum no of operations required to convert s to t\n",
    "# s=ycce\n",
    "# t=ycsce\n",
    "# op:1\n",
    "# s=h4c\n",
    "# t=h4c\n",
    "# op:0\n",
    "s=input()\n",
    "t=input()\n",
    "sl=list(s)\n",
    "tl=list(t)\n",
    "c=0\n",
    "if s==t:\n",
    "    print(0)\n",
    "else: \n",
    "    for i in sl:\n",
    "        if i in tl:\n",
    "            tl.remove(i)   \n",
    "    print(len(tl))    "
   ]
  },
  {
   "cell_type": "code",
   "execution_count": null,
   "metadata": {},
   "outputs": [],
   "source": [
    "#functions\n",
    "def add(a,b):\n",
    "    print(a+b)\n",
    "a,b=map(int,input().split())\n",
    "add(a,b)\n"
   ]
  },
  {
   "cell_type": "code",
   "execution_count": null,
   "metadata": {},
   "outputs": [],
   "source": [
    "#main func\n",
    "def add():\n",
    "    a,b=map(int,input().split())\n",
    "    print(a+b)\n",
    "if __name__=='__main__':\n",
    "    add()"
   ]
  },
  {
   "cell_type": "code",
   "execution_count": 1,
   "metadata": {},
   "outputs": [
    {
     "name": "stdout",
     "output_type": "stream",
     "text": [
      "Addition= 110 \n",
      "Subtraction= 80 \n",
      "Multiplication= 1425 \n",
      "Division= 6\n"
     ]
    }
   ],
   "source": [
    "#multiple values return\n",
    "def calci(x,y):\n",
    "    a=x+y\n",
    "    s=x-y\n",
    "    m=x*y\n",
    "    d=x//y\n",
    "    return a,s,m,d\n",
    "a,b=map(int,input().split())\n",
    "ra,rs,rm,rd=calci(a,b)\n",
    "print(\"Addition=\",ra,\"\\nSubtraction=\",rs,\"\\nMultiplication=\",rm,\"\\nDivision=\",rd)"
   ]
  },
  {
   "cell_type": "code",
   "execution_count": 6,
   "metadata": {},
   "outputs": [
    {
     "name": "stdout",
     "output_type": "stream",
     "text": [
      "a= 34 \n",
      "b= 56 \n",
      "1. Addition\n",
      "2. Subtraction\n",
      "3. Multiplication\n",
      "4. Division\n",
      "5.Exit\n",
      "90\n",
      "a= 56 \n",
      "b= 43 \n",
      "1. Addition\n",
      "2. Subtraction\n",
      "3. Multiplication\n",
      "4. Division\n",
      "5.Exit\n",
      "2408\n"
     ]
    },
    {
     "ename": "ValueError",
     "evalue": "invalid literal for int() with base 10: 'r5'",
     "output_type": "error",
     "traceback": [
      "\u001b[1;31m---------------------------------------------------------------------------\u001b[0m",
      "\u001b[1;31mValueError\u001b[0m                                Traceback (most recent call last)",
      "Cell \u001b[1;32mIn[6], line 10\u001b[0m\n\u001b[0;32m      8\u001b[0m     \u001b[38;5;28mprint\u001b[39m(a\u001b[38;5;241m/\u001b[39m\u001b[38;5;241m/\u001b[39mb)\n\u001b[0;32m      9\u001b[0m \u001b[38;5;28;01mwhile\u001b[39;00m \u001b[38;5;28;01mTrue\u001b[39;00m:\n\u001b[1;32m---> 10\u001b[0m     a,b\u001b[38;5;241m=\u001b[39m\u001b[38;5;28mmap\u001b[39m(\u001b[38;5;28mint\u001b[39m,\u001b[38;5;28minput\u001b[39m()\u001b[38;5;241m.\u001b[39msplit())\n\u001b[0;32m     12\u001b[0m     \u001b[38;5;28mprint\u001b[39m(\u001b[38;5;124m\"\u001b[39m\u001b[38;5;124ma=\u001b[39m\u001b[38;5;124m\"\u001b[39m,a,\u001b[38;5;124m\"\u001b[39m\u001b[38;5;130;01m\\n\u001b[39;00m\u001b[38;5;124mb=\u001b[39m\u001b[38;5;124m\"\u001b[39m,b,\u001b[38;5;124m\"\u001b[39m\u001b[38;5;130;01m\\n\u001b[39;00m\u001b[38;5;124m1. Addition\u001b[39m\u001b[38;5;130;01m\\n\u001b[39;00m\u001b[38;5;124m2. Subtraction\u001b[39m\u001b[38;5;130;01m\\n\u001b[39;00m\u001b[38;5;124m3. Multiplication\u001b[39m\u001b[38;5;130;01m\\n\u001b[39;00m\u001b[38;5;124m4. Division\u001b[39m\u001b[38;5;130;01m\\n\u001b[39;00m\u001b[38;5;124m5.Exit\u001b[39m\u001b[38;5;124m\"\u001b[39m)\n\u001b[0;32m     13\u001b[0m     c\u001b[38;5;241m=\u001b[39m\u001b[38;5;28mint\u001b[39m(\u001b[38;5;28minput\u001b[39m())\n",
      "\u001b[1;31mValueError\u001b[0m: invalid literal for int() with base 10: 'r5'"
     ]
    }
   ],
   "source": [
    "def add(a,b):\n",
    "    print(a+b)\n",
    "def sub(a,b):\n",
    "    print(a-b)\n",
    "def mul(a,b):\n",
    "    print(a*b)\n",
    "def div(a,b):\n",
    "    print(a//b)\n",
    "while True:\n",
    "    a,b=map(int,input().split())\n",
    "    \n",
    "    print(\"a=\",a,\"\\nb=\",b,\"\\n1. Addition\\n2. Subtraction\\n3. Multiplication\\n4. Division\\n5.Exit\")\n",
    "    c=int(input())\n",
    "    if c==1:\n",
    "        add(a,b)\n",
    "    elif c==2:\n",
    "        sub(a,b)\n",
    "    elif c==3:\n",
    "        mul(a,b)\n",
    "    elif c==4:\n",
    "        div(a,b)\n",
    "    elif c==5:\n",
    "        break\n",
    "    else:\n",
    "        print(\"Error\")\n"
   ]
  },
  {
   "cell_type": "code",
   "execution_count": null,
   "metadata": {},
   "outputs": [],
   "source": [
    "#create functions armstrong, reverse, palindrome, factorial with return values(menu driven)\n",
    "def armstrong(n):\n",
    "    n=int(input(\"No:\"))\n",
    "    n1=n\n",
    "    ncopy=n\n",
    "    c=0\n",
    "    while n!=0:\n",
    "        n=n//10\n",
    "        c+=1\n",
    "    print(\"No of digits:\",c)\n",
    "    x=1\n",
    "    sum=0\n",
    "    while n1!=0:\n",
    "        x=(n1%10)**c\n",
    "        sum+=x\n",
    "        n1=n1//10\n",
    "    if sum==ncopy:\n",
    "        print(ncopy,\"is an Armstrong no.\")\n",
    "    else:\n",
    "        print(\"Not a armstrong no.\")\n",
    "def reversez():\n",
    "    n=int(input())\n",
    "    s=str(n)\n",
    "    print(int(s[::-1]))\n",
    "def palindrome():\n",
    "    n=int(input(\"No:\"))\n",
    "    n1=n\n",
    "    r=0\n",
    "    while n!=0:\n",
    "        r=r*10+(n%10)\n",
    "        n=n//10\n",
    "    print(\"Reverse is\",r)\n",
    "    if r==n1: \n",
    "        print(n1,\"is a palindrome\")\n",
    "    else:\n",
    "        print(n1,\"is not a palindrome\")"
   ]
  },
  {
   "cell_type": "code",
   "execution_count": 11,
   "metadata": {},
   "outputs": [
    {
     "name": "stdout",
     "output_type": "stream",
     "text": [
      "x= 10 \n",
      "y= 20 \n",
      "Sum= 30 \n",
      "-------------\n",
      "x= 30 \n",
      "y= 20 \n",
      "Sum= 50 \n",
      "-------------\n",
      "x= 41 \n",
      "y= 22 \n",
      "Sum= 63 \n",
      "-------------\n"
     ]
    }
   ],
   "source": [
    "#keyword argument\n",
    "def add(x,y):\n",
    "    print(\"x=\",x,\"\\ny=\",y,\"\\nSum=\",x+y,\"\\n-------------\")\n",
    "add (x=10,y=20)\n",
    "add(y=20,x=30)\n",
    "add(41,22)"
   ]
  },
  {
   "cell_type": "code",
   "execution_count": 12,
   "metadata": {},
   "outputs": [
    {
     "name": "stdout",
     "output_type": "stream",
     "text": [
      "x= 10 \n",
      "y= 20 \n",
      "Sum= 30 \n",
      "-------------\n",
      "x= 30 \n",
      "y= 20 \n",
      "Sum= 50 \n",
      "-------------\n",
      "x= 41 \n",
      "y= 55 \n",
      "Sum= 96 \n",
      "-------------\n"
     ]
    }
   ],
   "source": [
    "def add(x,y=55):\n",
    "    print(\"x=\",x,\"\\ny=\",y,\"\\nSum=\",x+y,\"\\n-------------\")\n",
    "add (x=10,y=20)\n",
    "add(y=20,x=30)\n",
    "add(41)"
   ]
  },
  {
   "cell_type": "code",
   "execution_count": 13,
   "metadata": {},
   "outputs": [
    {
     "data": {
      "text/plain": [
       "60"
      ]
     },
     "execution_count": 13,
     "metadata": {},
     "output_type": "execute_result"
    }
   ],
   "source": [
    "def add(*n):\n",
    "    r=0\n",
    "    for i in n:\n",
    "        r+=i\n",
    "    return r\n",
    "add(10,20,30)        "
   ]
  }
 ],
 "metadata": {
  "kernelspec": {
   "display_name": "Python 3",
   "language": "python",
   "name": "python3"
  },
  "language_info": {
   "codemirror_mode": {
    "name": "ipython",
    "version": 3
   },
   "file_extension": ".py",
   "mimetype": "text/x-python",
   "name": "python",
   "nbconvert_exporter": "python",
   "pygments_lexer": "ipython3",
   "version": "3.12.7"
  }
 },
 "nbformat": 4,
 "nbformat_minor": 2
}
