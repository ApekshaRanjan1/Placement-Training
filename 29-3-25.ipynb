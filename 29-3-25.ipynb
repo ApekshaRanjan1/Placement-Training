{
 "cells": [
  {
   "cell_type": "code",
   "execution_count": 6,
   "metadata": {},
   "outputs": [
    {
     "name": "stdout",
     "output_type": "stream",
     "text": [
      "160\n"
     ]
    }
   ],
   "source": [
    "#a no is given. form another no. by adding factorials of all the digits +15\n",
    "#145=1!+4!+5!+15\n",
    "def fact(n):\n",
    "    if n==0 or n==1:\n",
    "        return 1\n",
    "    else:\n",
    "        return n*fact(n-1)\n",
    "n=int(input())\n",
    "s=0\n",
    "for i in str(n):\n",
    "    s+=fact(int(i))\n",
    "s+=15\n",
    "print(s)"
   ]
  },
  {
   "cell_type": "code",
   "execution_count": 5,
   "metadata": {},
   "outputs": [
    {
     "name": "stdout",
     "output_type": "stream",
     "text": [
      "Weird\n"
     ]
    }
   ],
   "source": [
    "n=int(input())\n",
    "if n%2!=0:\n",
    "    print(\"Weird\")\n",
    "else:\n",
    "    if n in range(2,6):\n",
    "        print(\"Not Weird\")\n",
    "    elif n in range(6,21):\n",
    "        print(\"Weird\")\n",
    "    else:\n",
    "        print(\"Not Weird\")"
   ]
  },
  {
   "cell_type": "code",
   "execution_count": 3,
   "metadata": {},
   "outputs": [
    {
     "name": "stdout",
     "output_type": "stream",
     "text": [
      "[23, 56, 22, 45, 21] \n",
      " 3 \n",
      " Position: Invalid input\n"
     ]
    }
   ],
   "source": [
    "#linear search\n",
    "def linear_search(arr, target):\n",
    "    for i in range(len(arr)):\n",
    "        if arr[i] == target:\n",
    "            return i\n",
    "        else:\n",
    "            continue\n",
    "    return \"Invalid input\"\n",
    "arr = eval(input(\"Enter the list: \"))\n",
    "target = int(input(\"Enter the target: \"))\n",
    "result = linear_search(arr, target)\n",
    "print(arr,\"\\n\",target,\"\\n\",\"Position:\",result)\n"
   ]
  },
  {
   "cell_type": "code",
   "execution_count": 4,
   "metadata": {},
   "outputs": [
    {
     "name": "stdout",
     "output_type": "stream",
     "text": [
      "[21, 22, 32, 45, 56] \n",
      " 45 \n",
      "Sorted array: [21, 22, 32, 45, 56] \n",
      "Position: 3\n"
     ]
    }
   ],
   "source": [
    "#binary search\n",
    "#first sort the array\n",
    "def sort(arr):\n",
    "    for i in range(len(arr)):\n",
    "        for j in range(i+1, len(arr)):\n",
    "            if arr[i] > arr[j]:\n",
    "                arr[i], arr[j] = arr[j], arr[i]\n",
    "    return arr\n",
    "def binary_search(arr, target): \n",
    "    arr = sort(arr)\n",
    "    left, right = 0, len(arr) - 1\n",
    "    while left <= right:\n",
    "        mid = (left + right) // 2\n",
    "        if arr[mid] == target:\n",
    "            return mid\n",
    "        elif arr[mid] < target:\n",
    "            left = mid + 1\n",
    "        else:\n",
    "            right = mid - 1\n",
    "    return -1\n",
    "arr = eval(input(\"Enter the list: \"))\n",
    "target = int(input(\"Enter the target: \"))   \n",
    "result = binary_search(arr, target)\n",
    "print(arr,\"\\n\",target,\"\\nSorted array:\",sort(arr),\"\\nPosition:\",result)"
   ]
  },
  {
   "cell_type": "code",
   "execution_count": 3,
   "metadata": {},
   "outputs": [
    {
     "name": "stdout",
     "output_type": "stream",
     "text": [
      "[4, 5, 6, 32, 34, 44, 337]\n"
     ]
    }
   ],
   "source": [
    "#bubble sort\n",
    "def bubble_sort(arr):\n",
    "    n = len(arr)\n",
    "    for i in range(n):\n",
    "        for j in range(0, n-i-1):\n",
    "            if arr[j] > arr[j+1]:\n",
    "                arr[j], arr[j+1] = arr[j+1], arr[j]\n",
    "    return arr\n",
    "arr = eval(input(\"Enter the list: \"))\n",
    "print(bubble_sort(arr))"
   ]
  },
  {
   "cell_type": "code",
   "execution_count": 5,
   "metadata": {},
   "outputs": [
    {
     "name": "stdout",
     "output_type": "stream",
     "text": [
      "[3, 6, 7, 7, 22, 34, 45, 67, 997, 3445, 6554]\n"
     ]
    }
   ],
   "source": [
    "def bubble_sort_re(arr, n=None):\n",
    "    if n is None:\n",
    "        n = len(arr)\n",
    "    if n == 1:\n",
    "        return arr\n",
    "    for i in range(n - 1):\n",
    "        if arr[i] > arr[i + 1]:\n",
    "            arr[i], arr[i + 1] = arr[i + 1], arr[i]\n",
    "    return bubble_sort_re(arr, n - 1)\n",
    "arr = eval(input(\"Enter the list: \"))\n",
    "print(bubble_sort_re(arr))"
   ]
  },
  {
   "cell_type": "markdown",
   "metadata": {},
   "source": [
    "implement the undo feature in a text editor.everytime a user types something , it gets pushed into the stack. when the user presses \"undo\" the last operation is popped fromt the stack"
   ]
  },
  {
   "cell_type": "code",
   "execution_count": null,
   "metadata": {},
   "outputs": [
    {
     "name": "stdout",
     "output_type": "stream",
     "text": [
      "Typed: Hello\n",
      "Typed: World\n",
      "Undo: World\n",
      "Undo: Hello\n",
      "Nothing to undo\n"
     ]
    }
   ],
   "source": [
    "# Stack to store the operations\n",
    "stack = []\n",
    "\n",
    "def type_text(text):\n",
    "    stack.append(text)\n",
    "    print(f\"Typed: {text}\")\n",
    "\n",
    "def undo():\n",
    "    if stack:\n",
    "        last_action = stack.pop()\n",
    "        print(f\"Undo: {last_action}\")\n",
    "    else:\n",
    "        print(\"Nothing to undo\")\n",
    "\n",
    "# Example usage\n",
    "type_text(\"Hello\")\n",
    "type_text(\"World\")\n",
    "print()\n",
    "undo()\n",
    "undo()\n",
    "undo()"
   ]
  },
  {
   "cell_type": "code",
   "execution_count": null,
   "metadata": {},
   "outputs": [],
   "source": []
  }
 ],
 "metadata": {
  "kernelspec": {
   "display_name": "Python 3",
   "language": "python",
   "name": "python3"
  },
  "language_info": {
   "codemirror_mode": {
    "name": "ipython",
    "version": 3
   },
   "file_extension": ".py",
   "mimetype": "text/x-python",
   "name": "python",
   "nbconvert_exporter": "python",
   "pygments_lexer": "ipython3",
   "version": "3.12.7"
  }
 },
 "nbformat": 4,
 "nbformat_minor": 2
}
