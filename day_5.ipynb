{
 "cells": [
  {
   "cell_type": "code",
   "execution_count": 5,
   "metadata": {},
   "outputs": [
    {
     "name": "stdout",
     "output_type": "stream",
     "text": [
      "32231\n",
      "<class 'int'>\n"
     ]
    }
   ],
   "source": [
    "i=13223\n",
    "s=str(i)\n",
    "r=s[::-1]\n",
    "r=int(r)\n",
    "print(r)"
   ]
  },
  {
   "cell_type": "code",
   "execution_count": 8,
   "metadata": {},
   "outputs": [
    {
     "name": "stdout",
     "output_type": "stream",
     "text": [
      "120\n"
     ]
    }
   ],
   "source": [
    "#factorial\n",
    "n=int(input())\n",
    "f=1\n",
    "while n!=0:\n",
    "    f=f*n\n",
    "    n=n-1\n",
    "print(f)"
   ]
  },
  {
   "cell_type": "code",
   "execution_count": 11,
   "metadata": {},
   "outputs": [
    {
     "name": "stdout",
     "output_type": "stream",
     "text": [
      "110\n"
     ]
    }
   ],
   "source": [
    "#sum of even no from 1 to 20\n",
    "sum=0\n",
    "for i in range(2,21,2):\n",
    "    sum+=i\n",
    "print(sum)"
   ]
  },
  {
   "cell_type": "code",
   "execution_count": 12,
   "metadata": {},
   "outputs": [
    {
     "name": "stdout",
     "output_type": "stream",
     "text": [
      "20\n"
     ]
    }
   ],
   "source": [
    "#sum of no of numbers\n",
    "l=list(map(int,input().split()))\n",
    "sum=0\n",
    "for i in l:\n",
    "    sum+=i\n",
    "print(sum)"
   ]
  },
  {
   "cell_type": "code",
   "execution_count": 13,
   "metadata": {},
   "outputs": [
    {
     "name": "stdout",
     "output_type": "stream",
     "text": [
      "[0, 1, 1, 2, 3, 5]\n"
     ]
    }
   ],
   "source": [
    "# fibonacci\n",
    "n=int(input())\n",
    "f=[0,1]\n",
    "for i in range(2,n):\n",
    "    f.append(f[i-1]+f[i-2])\n",
    "print(f)"
   ]
  },
  {
   "cell_type": "code",
   "execution_count": 17,
   "metadata": {},
   "outputs": [
    {
     "name": "stdout",
     "output_type": "stream",
     "text": [
      "11.666666666666666\n"
     ]
    }
   ],
   "source": [
    "#sum of series\n",
    "#sum=1+x/1+x^2/2+x^3/3....x^n/n\n",
    "n=int(input())\n",
    "x=int(input())\n",
    "sum=1\n",
    "for i in range (1,n+1):\n",
    "    sum=sum+(x**i)/i\n",
    "print(sum)"
   ]
  },
  {
   "cell_type": "code",
   "execution_count": 25,
   "metadata": {},
   "outputs": [
    {
     "name": "stdout",
     "output_type": "stream",
     "text": [
      "1\n",
      "2\n",
      "6\n",
      "24\n",
      "120\n",
      "7.266666666666667\n"
     ]
    }
   ],
   "source": [
    "#sum of series\n",
    "#sum=1+x/1!+x^2/2!+x^3/3!....x^n/n!\n",
    "n=int(input())\n",
    "x=int(input())\n",
    "sum=1\n",
    "f=1\n",
    "for i in range (1,n+1):\n",
    "    f=f*i\n",
    "    print(f)\n",
    "    sum=sum+(x**i)/f\n",
    "print(sum)"
   ]
  },
  {
   "cell_type": "code",
   "execution_count": 26,
   "metadata": {},
   "outputs": [
    {
     "name": "stdout",
     "output_type": "stream",
     "text": [
      "30\n"
     ]
    }
   ],
   "source": [
    "#product of 2 no w/o *\n",
    "n1=int(input())\n",
    "n2=int(input())\n",
    "p=0\n",
    "for i in range (n2):\n",
    "    p+=n1\n",
    "print(p)"
   ]
  },
  {
   "cell_type": "code",
   "execution_count": 29,
   "metadata": {},
   "outputs": [
    {
     "name": "stdout",
     "output_type": "stream",
     "text": [
      "50\n",
      "48\n",
      "46\n",
      "44\n",
      "42\n",
      "40\n",
      "38\n",
      "36\n",
      "34\n",
      "32\n",
      "30\n",
      "28\n",
      "26\n",
      "24\n",
      "22\n",
      "20\n",
      "18\n",
      "16\n",
      "14\n",
      "12\n",
      "10\n",
      "8\n",
      "6\n",
      "4\n",
      "2\n"
     ]
    }
   ],
   "source": [
    "#reverse order, difference 2\n",
    "n=int(input())\n",
    "for i in range(n,0,-2):\n",
    "    print(i)"
   ]
  },
  {
   "cell_type": "code",
   "execution_count": 31,
   "metadata": {},
   "outputs": [
    {
     "name": "stdout",
     "output_type": "stream",
     "text": [
      "1\n",
      "2\n",
      "3\n",
      "4\n",
      "5\n",
      "6\n",
      "7\n"
     ]
    }
   ],
   "source": [
    "#break: the rest of the code will not be executed\n",
    "for i in range(1,35):\n",
    "    if i==8:\n",
    "        break\n",
    "    print(i)"
   ]
  },
  {
   "cell_type": "code",
   "execution_count": 32,
   "metadata": {},
   "outputs": [
    {
     "name": "stdout",
     "output_type": "stream",
     "text": [
      "1\n",
      "2\n",
      "3\n",
      "4\n",
      "5\n",
      "6\n",
      "7\n",
      "9\n",
      "10\n",
      "11\n",
      "12\n",
      "13\n",
      "14\n",
      "15\n",
      "16\n",
      "17\n",
      "18\n",
      "19\n",
      "20\n",
      "21\n",
      "22\n",
      "23\n",
      "24\n",
      "25\n",
      "26\n",
      "27\n",
      "28\n",
      "29\n",
      "30\n",
      "31\n",
      "32\n",
      "33\n",
      "34\n"
     ]
    }
   ],
   "source": [
    "#continue:continues next iteration, only the condition is not executed, rest are. skips the current iteration\n",
    "for i in range(1,35):\n",
    "    if i==8:\n",
    "        continue\n",
    "    print(i)"
   ]
  },
  {
   "cell_type": "code",
   "execution_count": 48,
   "metadata": {},
   "outputs": [
    {
     "name": "stdout",
     "output_type": "stream",
     "text": [
      "1    10\n",
      "2    9\n",
      "4    7\n",
      "5    6\n"
     ]
    }
   ],
   "source": [
    "#1  10\n",
    "#2  9\n",
    "#3  8\n",
    "#4  7\n",
    "#5  6\n",
    "n2=int(input())\n",
    "for i in range(1,((n2+1)//2)+1):\n",
    "    if i==3:\n",
    "        continue\n",
    "    print(i,\"  \",(n2+1)-i)\n",
    "    "
   ]
  },
  {
   "cell_type": "code",
   "execution_count": null,
   "metadata": {},
   "outputs": [],
   "source": [
    "#pass keyword\n",
    "#write when we dont have any code"
   ]
  },
  {
   "cell_type": "code",
   "execution_count": 54,
   "metadata": {},
   "outputs": [
    {
     "name": "stdout",
     "output_type": "stream",
     "text": [
      "1 2 3 4 \n",
      "1 2 3 4 \n",
      "1 2 3 4 \n",
      "1 2 3 4 \n"
     ]
    }
   ],
   "source": [
    "#nested for : used for matrix\n",
    "#1. outer for loop for rows\n",
    "#2.inner for columns\n",
    "#3.modification \n",
    "for i in range(1,5):\n",
    "    for j in range(1,5):\n",
    "        print(j,end=\" \")\n",
    "    print()"
   ]
  },
  {
   "cell_type": "code",
   "execution_count": 66,
   "metadata": {},
   "outputs": [
    {
     "name": "stdout",
     "output_type": "stream",
     "text": [
      "1 \n",
      "1 2 \n",
      "1 2 3 \n",
      "1 2 3 4 \n"
     ]
    }
   ],
   "source": [
    "# 1\n",
    "# 12\n",
    "# 123\n",
    "# 1234\n",
    "for r in range(1,5):\n",
    "    for c in range(1,r+1):\n",
    "        print(c, end=\" \")  \n",
    "    print()"
   ]
  },
  {
   "cell_type": "code",
   "execution_count": 62,
   "metadata": {},
   "outputs": [
    {
     "name": "stdout",
     "output_type": "stream",
     "text": [
      "1 2 3 4 \n",
      "5 6 7 8 \n",
      "9 10 11 12 \n",
      "13 14 15 16 \n"
     ]
    }
   ],
   "source": [
    "# 1 2 3 4\n",
    "# 5 6 7 8\n",
    "# 9 10 11 12\n",
    "# 13 14 15 16\n",
    "n=1\n",
    "for r in range(1,5):\n",
    "    for c in range(1,5):\n",
    "        print(n,end=\" \")\n",
    "        n+=1\n",
    "    print()"
   ]
  },
  {
   "cell_type": "code",
   "execution_count": 64,
   "metadata": {},
   "outputs": [
    {
     "name": "stdout",
     "output_type": "stream",
     "text": [
      "ABCD\n",
      "EFGH\n",
      "IJKL\n",
      "MNOP\n"
     ]
    }
   ],
   "source": [
    "#ABCD\n",
    "#EFGH\n",
    "#IJKL\n",
    "#MNOP\n",
    "n=\"A\"\n",
    "for r in range(1,5):\n",
    "    for c in range(1,5):\n",
    "        print(n,end=\"\")\n",
    "        x=ord(n) +1\n",
    "        n=chr(x)\n",
    "    print()"
   ]
  },
  {
   "cell_type": "code",
   "execution_count": 69,
   "metadata": {},
   "outputs": [
    {
     "name": "stdout",
     "output_type": "stream",
     "text": [
      "*\n",
      "**\n",
      "***\n",
      "****\n"
     ]
    }
   ],
   "source": [
    "# *\n",
    "# **\n",
    "# ***\n",
    "# ****\n",
    "for r in range(1,5):\n",
    "    for c in range(1,r+1):\n",
    "        print(\"*\", end=\"\")\n",
    "    print()"
   ]
  },
  {
   "cell_type": "code",
   "execution_count": null,
   "metadata": {},
   "outputs": [],
   "source": []
  },
  {
   "cell_type": "code",
   "execution_count": 78,
   "metadata": {},
   "outputs": [
    {
     "name": "stdout",
     "output_type": "stream",
     "text": [
      "* * * * \n",
      "* * * \n",
      "* * \n",
      "* \n"
     ]
    }
   ],
   "source": [
    "# ****\n",
    "# ***\n",
    "# **\n",
    "# *\n",
    "for r in range(4,0,-1):\n",
    "    for c in range(1,r+1):\n",
    "        print(\"*\",end=\" \")\n",
    "    print()"
   ]
  },
  {
   "cell_type": "code",
   "execution_count": 81,
   "metadata": {},
   "outputs": [
    {
     "name": "stdout",
     "output_type": "stream",
     "text": [
      "****\n",
      " ***\n",
      "  **\n",
      "   *\n"
     ]
    }
   ],
   "source": [
    "# ****\n",
    "#  ***\n",
    "#   **\n",
    "#    *\n",
    "for r in range(4,0,-1):\n",
    "    print(\" \"*(4-r), end=\"\")\n",
    "    for c in range(1,r+1):\n",
    "        print(\"*\",end=\"\")\n",
    "    print()"
   ]
  },
  {
   "cell_type": "code",
   "execution_count": 83,
   "metadata": {},
   "outputs": [
    {
     "name": "stdout",
     "output_type": "stream",
     "text": [
      "* * * * \n",
      " * * * \n",
      "  * * \n",
      "   * \n"
     ]
    }
   ],
   "source": [
    "# * * * * \n",
    "#  * * * \n",
    "#   * * \n",
    "#    *\n",
    "for r in range(4,0,-1):\n",
    "    print(\" \"*(4-r), end=\"\")\n",
    "    for c in range(1,r+1):\n",
    "        print(\"*\",end=\" \")\n",
    "    print()"
   ]
  },
  {
   "cell_type": "code",
   "execution_count": 86,
   "metadata": {},
   "outputs": [
    {
     "name": "stdout",
     "output_type": "stream",
     "text": [
      "    *\n",
      "   **\n",
      "  ***\n",
      " ****\n"
     ]
    }
   ],
   "source": [
    "#     *\n",
    "#    **\n",
    "#   ***\n",
    "#  ****\n",
    "for r in range(1,5):\n",
    "    print(\" \"*(5-r), end=\"\")\n",
    "    for c in range(1,r+1):\n",
    "        print(\"*\", end=\"\")\n",
    "    print()"
   ]
  },
  {
   "cell_type": "code",
   "execution_count": 107,
   "metadata": {},
   "outputs": [
    {
     "name": "stdout",
     "output_type": "stream",
     "text": [
      "         ۞\n",
      "        *꙰*\n",
      "       *꙰*꙰*\n",
      "      *꙰*꙰*꙰*\n",
      "     *꙰*꙰*꙰*꙰*\n",
      "    *꙰*꙰*꙰*꙰*꙰*\n",
      "   *꙰*꙰*꙰*꙰*꙰*꙰*\n",
      "  *꙰*꙰*꙰*꙰*꙰*꙰*꙰*\n",
      " *꙰*꙰*꙰*꙰*꙰*꙰*꙰*꙰*\n"
     ]
    }
   ],
   "source": [
    "for r in range(1,10):\n",
    "    print(\" \"*(10-r), end=\"\")\n",
    "    if r==1:\n",
    "        print(\"۞\",end=\"\")\n",
    "        print()\n",
    "    else:\n",
    "        for c in range(1,r):\n",
    "            print(\"*\", end=\"꙰\")\n",
    "        print(\"*\")"
   ]
  },
  {
   "cell_type": "code",
   "execution_count": 108,
   "metadata": {},
   "outputs": [
    {
     "name": "stdout",
     "output_type": "stream",
     "text": [
      "<itertools.permutations object at 0x000002664C0A1580>\n"
     ]
    }
   ],
   "source": [
    "from itertools import permutations\n",
    "s = [1,2,3]\n",
    "\n",
    "print(permutations(s,3))"
   ]
  }
 ],
 "metadata": {
  "kernelspec": {
   "display_name": "Python 3",
   "language": "python",
   "name": "python3"
  },
  "language_info": {
   "codemirror_mode": {
    "name": "ipython",
    "version": 3
   },
   "file_extension": ".py",
   "mimetype": "text/x-python",
   "name": "python",
   "nbconvert_exporter": "python",
   "pygments_lexer": "ipython3",
   "version": "3.12.7"
  }
 },
 "nbformat": 4,
 "nbformat_minor": 2
}
