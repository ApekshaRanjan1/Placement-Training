{
 "cells": [
  {
   "cell_type": "markdown",
   "id": "f729538b",
   "metadata": {},
   "source": [
    "Postfix"
   ]
  },
  {
   "cell_type": "code",
   "execution_count": 9,
   "id": "7abf3e67",
   "metadata": {},
   "outputs": [
    {
     "name": "stdout",
     "output_type": "stream",
     "text": [
      "Postfix expression: abc*+\n"
     ]
    }
   ],
   "source": [
    "def operator(i):\n",
    "    if i == \"^\":\n",
    "        return 3\n",
    "    elif i == \"*\" or i == \"/\" or i == \"%\":\n",
    "        return 2\n",
    "    elif i == \"+\" or i == \"-\":\n",
    "        return 1\n",
    "    else:\n",
    "        return 0\n",
    "\n",
    "def in_to_post(s):\n",
    "    ans = \"\"\n",
    "    stack = []\n",
    "    for i in s:\n",
    "        if i == \"(\":\n",
    "            stack.append(i)\n",
    "        elif i == \")\":\n",
    "            while stack and stack[-1] != \"(\":\n",
    "                ans += stack.pop()\n",
    "            stack.pop()  # remove '('\n",
    "        elif (i >= \"a\" and i <= \"z\") or (i >= \"A\" and i <= \"Z\"):\n",
    "            ans += i\n",
    "        elif operator(i):\n",
    "            while stack and stack[-1] != \"(\" and operator(stack[-1]) >= operator(i):\n",
    "                ans += stack.pop()\n",
    "            stack.append(i)\n",
    "    while stack:\n",
    "        ans += stack.pop()\n",
    "    return ans\n",
    "\n",
    "s = input(\"Enter an infix expression: \")\n",
    "ans = in_to_post(s)\n",
    "print(\"Postfix expression:\", ans)\n"
   ]
  },
  {
   "cell_type": "code",
   "execution_count": null,
   "id": "fb274aba",
   "metadata": {},
   "outputs": [
    {
     "name": "stdout",
     "output_type": "stream",
     "text": [
      "10\n"
     ]
    }
   ],
   "source": [
    "print(a:=10)\n",
    "#walrus thingy, used for direct assignment"
   ]
  },
  {
   "cell_type": "markdown",
   "id": "10b210cb",
   "metadata": {},
   "source": [
    "Infix"
   ]
  },
  {
   "cell_type": "code",
   "execution_count": 11,
   "id": "941888d8",
   "metadata": {},
   "outputs": [
    {
     "name": "stdout",
     "output_type": "stream",
     "text": [
      "c*(b+a)\n"
     ]
    },
    {
     "ename": "NameError",
     "evalue": "name 'in_to_post' is not defined",
     "output_type": "error",
     "traceback": [
      "\u001b[1;31m---------------------------------------------------------------------------\u001b[0m",
      "\u001b[1;31mNameError\u001b[0m                                 Traceback (most recent call last)",
      "Cell \u001b[1;32mIn[11], line 20\u001b[0m\n\u001b[0;32m     16\u001b[0m     \u001b[38;5;28;01mreturn\u001b[39;00m infix[::\u001b[38;5;241m-\u001b[39m\u001b[38;5;241m1\u001b[39m]\n\u001b[0;32m     19\u001b[0m s \u001b[38;5;241m=\u001b[39m \u001b[38;5;28minput\u001b[39m(\u001b[38;5;124m\"\u001b[39m\u001b[38;5;124mEnter a postfix expression: \u001b[39m\u001b[38;5;124m\"\u001b[39m)\n\u001b[1;32m---> 20\u001b[0m \u001b[38;5;28mprint\u001b[39m(\u001b[38;5;124m\"\u001b[39m\u001b[38;5;124mInfix expression:\u001b[39m\u001b[38;5;124m\"\u001b[39m, \u001b[43mpost_to_in\u001b[49m\u001b[43m(\u001b[49m\u001b[43ms\u001b[49m\u001b[43m)\u001b[49m)\n",
      "Cell \u001b[1;32mIn[11], line 15\u001b[0m, in \u001b[0;36mpost_to_in\u001b[1;34m(s)\u001b[0m\n\u001b[0;32m     13\u001b[0m r\u001b[38;5;241m=\u001b[39m\u001b[38;5;124m'\u001b[39m\u001b[38;5;124m'\u001b[39m\u001b[38;5;241m.\u001b[39mjoin([\u001b[38;5;124m'\u001b[39m\u001b[38;5;124m(\u001b[39m\u001b[38;5;124m'\u001b[39m \u001b[38;5;28;01mif\u001b[39;00m i\u001b[38;5;241m==\u001b[39m\u001b[38;5;124m'\u001b[39m\u001b[38;5;124m)\u001b[39m\u001b[38;5;124m'\u001b[39m \u001b[38;5;28;01melse\u001b[39;00m \u001b[38;5;124m'\u001b[39m\u001b[38;5;124m)\u001b[39m\u001b[38;5;124m'\u001b[39m \u001b[38;5;28;01mif\u001b[39;00m i\u001b[38;5;241m==\u001b[39m\u001b[38;5;124m'\u001b[39m\u001b[38;5;124m(\u001b[39m\u001b[38;5;124m'\u001b[39m \u001b[38;5;28;01melse\u001b[39;00m i \u001b[38;5;28;01mfor\u001b[39;00m i \u001b[38;5;129;01min\u001b[39;00m r])\n\u001b[0;32m     14\u001b[0m \u001b[38;5;28mprint\u001b[39m(r)\n\u001b[1;32m---> 15\u001b[0m infix\u001b[38;5;241m=\u001b[39m \u001b[43min_to_post\u001b[49m(r)\n\u001b[0;32m     16\u001b[0m \u001b[38;5;28;01mreturn\u001b[39;00m infix[::\u001b[38;5;241m-\u001b[39m\u001b[38;5;241m1\u001b[39m]\n",
      "\u001b[1;31mNameError\u001b[0m: name 'in_to_post' is not defined"
     ]
    }
   ],
   "source": [
    "def operator(i):\n",
    "    if i == \"^\":\n",
    "        return 3\n",
    "    elif i == \"*\" or i == \"/\" or i == \"%\":\n",
    "        return 2\n",
    "    elif i == \"+\" or i == \"-\":\n",
    "        return 1\n",
    "    else:\n",
    "        return 0\n",
    "  \n",
    "def post_to_in(s):\n",
    "    r=s[::-1]\n",
    "    r=''.join(['(' if i==')' else ')' if i=='(' else i for i in r])\n",
    "    print(r)\n",
    "    infix= in_to_post(r)\n",
    "    return infix[::-1]\n",
    "    \n",
    "\n",
    "s = input(\"Enter a postfix expression: \")\n",
    "print(\"Infix expression:\", post_to_in(s))\n"
   ]
  },
  {
   "cell_type": "code",
   "execution_count": 14,
   "id": "ac97d607",
   "metadata": {},
   "outputs": [
    {
     "name": "stdout",
     "output_type": "stream",
     "text": [
      "c*)b+a(\n"
     ]
    }
   ],
   "source": [
    "s=input()\n",
    "r=s[::-1]\n",
    "print(r)"
   ]
  },
  {
   "cell_type": "markdown",
   "id": "63507881",
   "metadata": {},
   "source": [
    "queue"
   ]
  },
  {
   "cell_type": "code",
   "execution_count": null,
   "id": "35aa75b1",
   "metadata": {},
   "outputs": [
    {
     "name": "stdout",
     "output_type": "stream",
     "text": [
      "Enqueued: 10\n",
      "Enqueued: 20\n",
      "Enqueued: 30\n",
      "Queue is full\n",
      "Queue elements: 10 20 30 \n",
      "Dequeued: 10\n",
      "Queue elements: 20 30 \n",
      "Queue is full\n",
      "Queue elements: 20 30 \n"
     ]
    }
   ],
   "source": [
    "class Queue:\n",
    "    def __init__(self, size):\n",
    "        self.size = size\n",
    "        self.queue = [None] * size\n",
    "        self.front = -1\n",
    "        self.rear = -1\n",
    "    \n",
    "    def enque(self, value):\n",
    "        if self.rear == self.size - 1:\n",
    "            print(\"Queue is full\")\n",
    "            return\n",
    "        if self.front == -1:\n",
    "            self.front = 0\n",
    "        self.rear += 1\n",
    "        self.queue[self.rear] = value\n",
    "        print(f\"Enqueued: {value}\")\n",
    "        \n",
    "    def deque(self):\n",
    "        if self.front == -1 or self.front > self.rear:\n",
    "            print(\"Queue is empty\")\n",
    "            return\n",
    "        data = self.queue[self.front]\n",
    "        print(f\"Dequeued: {data}\")\n",
    "        self.front += 1\n",
    "        return data\n",
    "    \n",
    "    def display(self):\n",
    "        if self.front == -1 or self.front > self.rear:\n",
    "            print(\"Queue is empty\")\n",
    "            return\n",
    "        print(\"Queue elements:\", end=\" \")\n",
    "        for i in range(self.front, self.rear + 1):\n",
    "            print(self.queue[i], end=\" \")\n",
    "        print()\n",
    "\n",
    "q = Queue(3)\n",
    "q.enque(10)\n",
    "q.enque(20)\n",
    "q.enque(30)\n",
    "q.enque(40)  \n",
    "\n",
    "q.display()\n",
    "q.deque()\n",
    "q.display()\n",
    "q.enque(40)  \n",
    "q.display()\n",
    "# q.deque()\n",
    "# q.deque()\n",
    "# q.deque()  \n"
   ]
  },
  {
   "cell_type": "markdown",
   "id": "c264f799",
   "metadata": {},
   "source": [
    "Circular Queue"
   ]
  },
  {
   "cell_type": "code",
   "execution_count": 13,
   "id": "e9c96b53",
   "metadata": {},
   "outputs": [
    {
     "ename": "AttributeError",
     "evalue": "'cirqueueu' object has no attribute 'rear'",
     "output_type": "error",
     "traceback": [
      "\u001b[1;31m---------------------------------------------------------------------------\u001b[0m",
      "\u001b[1;31mAttributeError\u001b[0m                            Traceback (most recent call last)",
      "Cell \u001b[1;32mIn[13], line 41\u001b[0m\n\u001b[0;32m     39\u001b[0m         \u001b[38;5;28mprint\u001b[39m()\n\u001b[0;32m     40\u001b[0m q \u001b[38;5;241m=\u001b[39m cirqueueu()\n\u001b[1;32m---> 41\u001b[0m \u001b[43mq\u001b[49m\u001b[38;5;241;43m.\u001b[39;49m\u001b[43menque\u001b[49m\u001b[43m(\u001b[49m\u001b[38;5;241;43m10\u001b[39;49m\u001b[43m)\u001b[49m         \n\u001b[0;32m     42\u001b[0m q\u001b[38;5;241m.\u001b[39menque(\u001b[38;5;241m20\u001b[39m)\n\u001b[0;32m     43\u001b[0m q\u001b[38;5;241m.\u001b[39menque(\u001b[38;5;241m30\u001b[39m) \n",
      "Cell \u001b[1;32mIn[13], line 8\u001b[0m, in \u001b[0;36mcirqueueu.enque\u001b[1;34m(self, value)\u001b[0m\n\u001b[0;32m      7\u001b[0m \u001b[38;5;28;01mdef\u001b[39;00m \u001b[38;5;21menque\u001b[39m(\u001b[38;5;28mself\u001b[39m, value):\n\u001b[1;32m----> 8\u001b[0m     \u001b[38;5;28;01mif\u001b[39;00m (\u001b[38;5;28;43mself\u001b[39;49m\u001b[38;5;241;43m.\u001b[39;49m\u001b[43mrear\u001b[49m \u001b[38;5;241m+\u001b[39m \u001b[38;5;241m1\u001b[39m) \u001b[38;5;241m%\u001b[39m \u001b[38;5;28mself\u001b[39m\u001b[38;5;241m.\u001b[39msize \u001b[38;5;241m==\u001b[39m \u001b[38;5;28mself\u001b[39m\u001b[38;5;241m.\u001b[39mfront:\n\u001b[0;32m      9\u001b[0m         \u001b[38;5;28mprint\u001b[39m(\u001b[38;5;124m\"\u001b[39m\u001b[38;5;124mQueue is full\u001b[39m\u001b[38;5;124m\"\u001b[39m)\n\u001b[0;32m     10\u001b[0m         \u001b[38;5;28;01mreturn\u001b[39;00m\n",
      "\u001b[1;31mAttributeError\u001b[0m: 'cirqueueu' object has no attribute 'rear'"
     ]
    }
   ],
   "source": [
    "class cirqueueu:\n",
    "    def __init(self, size):\n",
    "        self.size = size\n",
    "        self.queue = [None] * size\n",
    "        self.front = -1\n",
    "        self.rear = -1  \n",
    "    def enque(self, value):\n",
    "        if (self.rear + 1) % self.size == self.front:\n",
    "            print(\"Queue is full\")\n",
    "            return\n",
    "        if self.front == -1:\n",
    "            self.front = 0\n",
    "        self.rear = (self.rear + 1) % self.size\n",
    "        self.queue[self.rear] = value\n",
    "        print(f\"Enqueued: {value}\")\n",
    "    def deque(self):\n",
    "        if self.front == -1:\n",
    "            print(\"Queue is empty\")\n",
    "            return\n",
    "        data = self.queue[self.front]\n",
    "        print(f\"Dequeued: {data}\")\n",
    "        if self.front == self.rear:\n",
    "            self.front = -1\n",
    "            self.rear = -1\n",
    "        else:\n",
    "            self.front = (self.front + 1) % self.size\n",
    "        return data\n",
    "    def display(self):\n",
    "        if self.front == -1:\n",
    "            print(\"Queue is empty\")\n",
    "            return\n",
    "        print(\"Queue elements:\", end=\" \")\n",
    "        i = self.front\n",
    "        while True: \n",
    "            print(self.queue[i], end=\" \")\n",
    "            if i == self.rear:\n",
    "                break\n",
    "            i = (i + 1) % self.size\n",
    "        print()\n",
    "q = cirqueueu()\n",
    "q.enque(10)         \n",
    "q.enque(20)\n",
    "q.enque(30) \n",
    "q.enque(40)  # This should indicate the queue is full\n",
    "q.display()\n",
    "q.deque()\n",
    "q.display()\n",
    "q.enque(40)  # This should work now\n",
    "q.display()"
   ]
  },
  {
   "cell_type": "markdown",
   "id": "2ef09de5",
   "metadata": {},
   "source": [
    "Priority Queue\n"
   ]
  },
  {
   "cell_type": "code",
   "execution_count": null,
   "id": "439625c0",
   "metadata": {},
   "outputs": [],
   "source": [
    "class priorityQueue:\n",
    "    def __init__(self, size):\n",
    "        self.size = size\n",
    "        self.queue = []\n",
    "    \n",
    "    def enque(self, value, priority):\n",
    "        if len(self.queue) >= self.size:\n",
    "            print(\"Queue is full\")\n",
    "            return\n",
    "        self.queue.append((value, priority))\n",
    "        self.queue.sort(key=lambda x: x[1], reverse=True)\n",
    "        print(f\"Enqueued: {value} with priority {priority}\")\n",
    "    \n",
    "    def deque(self):\n",
    "        if not self.queue:\n",
    "            print(\"Queue is empty\")\n",
    "            return\n",
    "        data = self.queue.pop(0)\n",
    "        print(f\"Dequeued: {data[0]} with priority {data[1]}\")\n",
    "        return data[0]\n",
    "    \n",
    "    def display(self):\n",
    "        if not self.queue:\n",
    "            print(\"Queue is empty\")\n",
    "            return\n",
    "        print(\"Queue elements (value, priority):\", end=\" \")\n",
    "        for item in self.queue:\n",
    "            print(item, end=\" \")\n",
    "        print()\n",
    "    "
   ]
  },
  {
   "cell_type": "code",
   "execution_count": null,
   "id": "c3332c76",
   "metadata": {},
   "outputs": [],
   "source": [
    "class priority:\n",
    "    def __init__(self, size):\n",
    "        self.size = size\n",
    "        self.queue = [] \n",
    "        \n",
    "    def enque(self, value, priority):\n",
    "        if len(self.queue) >="
   ]
  }
 ],
 "metadata": {
  "kernelspec": {
   "display_name": "Python 3",
   "language": "python",
   "name": "python3"
  },
  "language_info": {
   "codemirror_mode": {
    "name": "ipython",
    "version": 3
   },
   "file_extension": ".py",
   "mimetype": "text/x-python",
   "name": "python",
   "nbconvert_exporter": "python",
   "pygments_lexer": "ipython3",
   "version": "3.12.7"
  }
 },
 "nbformat": 4,
 "nbformat_minor": 5
}
