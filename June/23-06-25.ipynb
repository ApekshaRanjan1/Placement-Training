{
 "cells": [
  {
   "cell_type": "markdown",
   "id": "f729538b",
   "metadata": {},
   "source": [
    "Postfix"
   ]
  },
  {
   "cell_type": "code",
   "execution_count": 9,
   "id": "7abf3e67",
   "metadata": {},
   "outputs": [
    {
     "name": "stdout",
     "output_type": "stream",
     "text": [
      "Postfix expression: abc*+\n"
     ]
    }
   ],
   "source": [
    "def operator(i):\n",
    "    if i == \"^\":\n",
    "        return 3\n",
    "    elif i == \"*\" or i == \"/\" or i == \"%\":\n",
    "        return 2\n",
    "    elif i == \"+\" or i == \"-\":\n",
    "        return 1\n",
    "    else:\n",
    "        return 0\n",
    "\n",
    "def in_to_post(s):\n",
    "    ans = \"\"\n",
    "    stack = []\n",
    "    for i in s:\n",
    "        if i == \"(\":\n",
    "            stack.append(i)\n",
    "        elif i == \")\":\n",
    "            while stack and stack[-1] != \"(\":\n",
    "                ans += stack.pop()\n",
    "            stack.pop()  # remove '('\n",
    "        elif (i >= \"a\" and i <= \"z\") or (i >= \"A\" and i <= \"Z\"):\n",
    "            ans += i\n",
    "        elif operator(i):\n",
    "            while stack and stack[-1] != \"(\" and operator(stack[-1]) >= operator(i):\n",
    "                ans += stack.pop()\n",
    "            stack.append(i)\n",
    "    while stack:\n",
    "        ans += stack.pop()\n",
    "    return ans\n",
    "\n",
    "s = input(\"Enter an infix expression: \")\n",
    "ans = in_to_post(s)\n",
    "print(\"Postfix expression:\", ans)\n"
   ]
  },
  {
   "cell_type": "code",
   "execution_count": null,
   "id": "fb274aba",
   "metadata": {},
   "outputs": [
    {
     "name": "stdout",
     "output_type": "stream",
     "text": [
      "10\n"
     ]
    }
   ],
   "source": [
    "print(a:=10)\n",
    "#walrus thingy, used for direct assignment"
   ]
  },
  {
   "cell_type": "markdown",
   "id": "10b210cb",
   "metadata": {},
   "source": [
    "Infix"
   ]
  },
  {
   "cell_type": "code",
   "execution_count": null,
   "id": "941888d8",
   "metadata": {},
   "outputs": [
    {
     "name": "stdout",
     "output_type": "stream",
     "text": [
      "c*(b+a)\n"
     ]
    },
    {
     "ename": "NameError",
     "evalue": "name 'in_to_post' is not defined",
     "output_type": "error",
     "traceback": [
      "\u001b[1;31m---------------------------------------------------------------------------\u001b[0m",
      "\u001b[1;31mNameError\u001b[0m                                 Traceback (most recent call last)",
      "Cell \u001b[1;32mIn[1], line 10\u001b[0m\n\u001b[0;32m      6\u001b[0m     \u001b[38;5;28;01mreturn\u001b[39;00m infix[::\u001b[38;5;241m-\u001b[39m\u001b[38;5;241m1\u001b[39m]\n\u001b[0;32m      9\u001b[0m s \u001b[38;5;241m=\u001b[39m \u001b[38;5;28minput\u001b[39m(\u001b[38;5;124m\"\u001b[39m\u001b[38;5;124mEnter a postfix expression: \u001b[39m\u001b[38;5;124m\"\u001b[39m)\n\u001b[1;32m---> 10\u001b[0m \u001b[38;5;28mprint\u001b[39m(\u001b[38;5;124m\"\u001b[39m\u001b[38;5;124mInfix expression:\u001b[39m\u001b[38;5;124m\"\u001b[39m, \u001b[43mpost_to_in\u001b[49m\u001b[43m(\u001b[49m\u001b[43ms\u001b[49m\u001b[43m)\u001b[49m)\n",
      "Cell \u001b[1;32mIn[1], line 5\u001b[0m, in \u001b[0;36mpost_to_in\u001b[1;34m(s)\u001b[0m\n\u001b[0;32m      3\u001b[0m r\u001b[38;5;241m=\u001b[39m\u001b[38;5;124m'\u001b[39m\u001b[38;5;124m'\u001b[39m\u001b[38;5;241m.\u001b[39mjoin([\u001b[38;5;124m'\u001b[39m\u001b[38;5;124m(\u001b[39m\u001b[38;5;124m'\u001b[39m \u001b[38;5;28;01mif\u001b[39;00m i\u001b[38;5;241m==\u001b[39m\u001b[38;5;124m'\u001b[39m\u001b[38;5;124m)\u001b[39m\u001b[38;5;124m'\u001b[39m \u001b[38;5;28;01melse\u001b[39;00m \u001b[38;5;124m'\u001b[39m\u001b[38;5;124m)\u001b[39m\u001b[38;5;124m'\u001b[39m \u001b[38;5;28;01mif\u001b[39;00m i\u001b[38;5;241m==\u001b[39m\u001b[38;5;124m'\u001b[39m\u001b[38;5;124m(\u001b[39m\u001b[38;5;124m'\u001b[39m \u001b[38;5;28;01melse\u001b[39;00m i \u001b[38;5;28;01mfor\u001b[39;00m i \u001b[38;5;129;01min\u001b[39;00m r])\n\u001b[0;32m      4\u001b[0m \u001b[38;5;28mprint\u001b[39m(r)\n\u001b[1;32m----> 5\u001b[0m infix\u001b[38;5;241m=\u001b[39m \u001b[43min_to_post\u001b[49m(r)\n\u001b[0;32m      6\u001b[0m \u001b[38;5;28;01mreturn\u001b[39;00m infix[::\u001b[38;5;241m-\u001b[39m\u001b[38;5;241m1\u001b[39m]\n",
      "\u001b[1;31mNameError\u001b[0m: name 'in_to_post' is not defined"
     ]
    }
   ],
   "source": [
    "def operator(i):\n",
    "    if i == \"^\":\n",
    "        return 3\n",
    "    elif i == \"*\" or i == \"/\" or i == \"%\":\n",
    "        return 2\n",
    "    elif i == \"+\" or i == \"-\":\n",
    "        return 1\n",
    "    else:\n",
    "        return 0\n",
    "  \n",
    "def post_to_in(s):\n",
    "    r=s[::-1]\n",
    "    r=''.join(['(' if i==')' else ')' if i=='(' else i for i in r])\n",
    "    print(r)\n",
    "    infix= in_to_post(r)\n",
    "    return infix[::-1]\n",
    "    \n",
    "\n",
    "s = input(\"Enter a postfix expression: \")\n",
    "print(\"Infix expression:\", post_to_in(s))\n"
   ]
  },
  {
   "cell_type": "code",
   "execution_count": 14,
   "id": "ac97d607",
   "metadata": {},
   "outputs": [
    {
     "name": "stdout",
     "output_type": "stream",
     "text": [
      "c*)b+a(\n"
     ]
    }
   ],
   "source": [
    "s=input()\n",
    "r=s[::-1]\n",
    "print(r)"
   ]
  }
 ],
 "metadata": {
  "kernelspec": {
   "display_name": "Python 3",
   "language": "python",
   "name": "python3"
  },
  "language_info": {
   "codemirror_mode": {
    "name": "ipython",
    "version": 3
   },
   "file_extension": ".py",
   "mimetype": "text/x-python",
   "name": "python",
   "nbconvert_exporter": "python",
   "pygments_lexer": "ipython3",
   "version": "3.12.7"
  }
 },
 "nbformat": 4,
 "nbformat_minor": 5
}
