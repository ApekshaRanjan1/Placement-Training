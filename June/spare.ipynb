{
 "cells": [
  {
   "cell_type": "code",
   "execution_count": null,
   "id": "5ac710d6",
   "metadata": {},
   "outputs": [
    {
     "name": "stdout",
     "output_type": "stream",
     "text": [
      "Infix: a+b*c\n",
      "Postfix: a b c * +\n"
     ]
    }
   ],
   "source": [
    "def infix_to_postfix(expression):\n",
    "    precedence = {'+':1, '-':1, '*':2, '/':2, '^':3}\n",
    "    stack = []\n",
    "    output = []\n",
    "\n",
    "    for char in expression:\n",
    "        if char.isalnum():\n",
    "            output.append(char)\n",
    "        elif char == '(':\n",
    "            stack.append(char)\n",
    "        elif char == ')':\n",
    "            while stack and stack[-1] != '(':\n",
    "                output.append(stack.pop())\n",
    "            stack.pop()  \n",
    "        else:  \n",
    "            while (stack and stack[-1] != '(' and\n",
    "                   precedence.get(char, 0) <= precedence.get(stack[-1], 0)):\n",
    "                output.append(stack.pop())\n",
    "            stack.append(char)\n",
    "\n",
    "    while stack:\n",
    "        output.append(stack.pop())\n",
    "\n",
    "    return ' '.join(output)\n",
    "\n",
    "infix = input(\"Enter an infix expression: \")\n",
    "postfix = infix_to_postfix(infix)\n",
    "print(f\"Infix: {infix}\")\n",
    "print(f\"Postfix: {postfix}\")\n"
   ]
  },
  {
   "cell_type": "code",
   "execution_count": 2,
   "id": "a4463b7e",
   "metadata": {},
   "outputs": [
    {
     "name": "stdout",
     "output_type": "stream",
     "text": [
      "8\n"
     ]
    }
   ],
   "source": [
    "r=[0,4,3,24,3,2,443,2]\n",
    "print(len(r))"
   ]
  },
  {
   "cell_type": "code",
   "execution_count": null,
   "id": "a3f981fe",
   "metadata": {},
   "outputs": [],
   "source": [
    "def temperature(t):\n",
    "    \n",
    "    \n",
    "temp = [73,74,75,71,69,72,76,73]\n",
    "print(temperature(temp))"
   ]
  }
 ],
 "metadata": {
  "kernelspec": {
   "display_name": "Python 3",
   "language": "python",
   "name": "python3"
  },
  "language_info": {
   "codemirror_mode": {
    "name": "ipython",
    "version": 3
   },
   "file_extension": ".py",
   "mimetype": "text/x-python",
   "name": "python",
   "nbconvert_exporter": "python",
   "pygments_lexer": "ipython3",
   "version": "3.12.7"
  }
 },
 "nbformat": 4,
 "nbformat_minor": 5
}
