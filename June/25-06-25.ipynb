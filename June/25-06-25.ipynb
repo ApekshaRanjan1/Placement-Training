{
 "cells": [
  {
   "cell_type": "code",
   "execution_count": 11,
   "id": "d84da0a5",
   "metadata": {},
   "outputs": [
    {
     "name": "stdout",
     "output_type": "stream",
     "text": [
      "binary tree: [100, 50, 120, 43, 89, 109, 125, 20, 67, 123, 130, 78, 132]\n",
      "preorder: [100, 50, 43, 20, 89, 67, 78, 120, 109, 125, 123, 130, 132]\n",
      "inorder: [20, 43, 50, 67, 78, 89, 100, 109, 120, 123, 125, 130, 132]\n",
      "postorder: [132, 130, 125, 123, 120, 109, 100, 89, 78, 67, 50, 43, 20]\n"
     ]
    }
   ],
   "source": [
    "class Node:\n",
    "    def __init__(self, data):\n",
    "        self.data = data\n",
    "        self.left = None\n",
    "        self.right = None\n",
    "\n",
    "class BinaryTree:\n",
    "    def __init__(self):\n",
    "        self.root = None\n",
    "\n",
    "    def insert(self, data):\n",
    "        if self.root is None:\n",
    "            self.root = Node(data)\n",
    "        else:\n",
    "            current = self.root\n",
    "            while True:\n",
    "                if data < current.data:\n",
    "                    if current.left is None:\n",
    "                        current.left = Node(data)\n",
    "                        break\n",
    "                    else:\n",
    "                        current = current.left\n",
    "                else:\n",
    "                    if current.right is None:\n",
    "                        current.right = Node(data)\n",
    "                        break\n",
    "                    else:\n",
    "                        current = current.right\n",
    "\n",
    "    def level_order(self):\n",
    "        if not self.root:\n",
    "            return []\n",
    "        queue = [self.root]\n",
    "        res = []\n",
    "        while queue:\n",
    "            node = queue.pop(0)\n",
    "            res.append(node.data)\n",
    "            if node.left:\n",
    "                queue.append(node.left)\n",
    "            if node.right:\n",
    "                queue.append(node.right)\n",
    "        return res\n",
    "    def preorder(self):\n",
    "        if not self.root:\n",
    "            return []\n",
    "        stack = [self.root]\n",
    "        res = []\n",
    "        while stack:\n",
    "            node = stack.pop()\n",
    "            res.append(node.data)\n",
    "            if node.right:\n",
    "                stack.append(node.right)\n",
    "            if node.left:\n",
    "                stack.append(node.left)\n",
    "        return res\n",
    "    def inorder(self):\n",
    "        if not self.root:\n",
    "            return []\n",
    "        stack = []\n",
    "        current = self.root\n",
    "        res = []\n",
    "        while stack or current:\n",
    "            while current:\n",
    "                stack.append(current)\n",
    "                current = current.left\n",
    "            current = stack.pop()\n",
    "            res.append(current.data)\n",
    "            current = current.right\n",
    "        return res\n",
    "    def postorder(self):\n",
    "        if not self.root:\n",
    "            return []\n",
    "        stack = []\n",
    "        res = []\n",
    "        current = self.root\n",
    "        while stack or current:\n",
    "            while current:\n",
    "                stack.append(current)\n",
    "                current = current.left\n",
    "            current = stack.pop()\n",
    "            res.append(current.data)\n",
    "            if current.right:\n",
    "                current = current.right\n",
    "            else:\n",
    "                current = None\n",
    "        return res[::-1]\n",
    "# Build tree\n",
    "bt = BinaryTree()\n",
    "a = eval(input())\n",
    "for i in a:\n",
    "    bt.insert(i)\n",
    "#Print level order\n",
    "print(\"binary tree:\", bt.level_order())\n",
    "print(\"preorder:\", bt.preorder())\n",
    "print(\"inorder:\", bt.inorder())\n",
    "print(\"postorder:\", bt.postorder())"
   ]
  },
  {
   "cell_type": "code",
   "execution_count": null,
   "id": "29e92de3",
   "metadata": {},
   "outputs": [],
   "source": [
    "#avl rotations\n",
    "class Node:\n",
    "    def __init__(self, data):\n",
    "        self.data = data\n",
    "        self.left = None\n",
    "        self.right = None\n",
    "\n",
    "class BinaryTree:\n",
    "    def __init__(self):\n",
    "        self.root = None\n",
    "\n",
    "    def insert(self, data):\n",
    "        if self.root is None:\n",
    "            self.root = Node(data)\n",
    "        else:\n",
    "            current = self.root\n",
    "            while True:\n",
    "                if data < current.data:\n",
    "                    if current.left is None:\n",
    "                        current.left = Node(data)\n",
    "                        break\n",
    "                    else:\n",
    "                        current = current.left\n",
    "                else:\n",
    "                    if current.right is None:\n",
    "                        current.right = Node(data)\n",
    "                        break\n",
    "                    else:\n",
    "                        current = current.right\n",
    "                        \n",
    "    def height(self, node):\n",
    "        if not node:\n",
    "            return -1\n",
    "        return 1 + max(self.height(node.left), self.height(node.right))\n",
    "    def balance_factor(self, node):\n",
    "        if not node:\n",
    "            return 0\n",
    "        return self.height(node.left) - self.height(node.right)\n",
    "    def rotate_right(self, y):\n",
    "        x = y.left\n",
    "        T2 = x.right\n",
    "        x.right = y\n",
    "        y.left = T2\n",
    "        return x"
   ]
  },
  {
   "cell_type": "code",
   "execution_count": 18,
   "id": "5c3aacd1",
   "metadata": {},
   "outputs": [
    {
     "name": "stdout",
     "output_type": "stream",
     "text": [
      "15\n"
     ]
    }
   ],
   "source": [
    "def recursion(n):\n",
    "    if n == 0:\n",
    "        return 0\n",
    "    else:\n",
    "        return n + recursion(n - 1)\n",
    "\n",
    "print(recursion(5))   # Output: 15\n"
   ]
  },
  {
   "cell_type": "code",
   "execution_count": null,
   "id": "d116f807",
   "metadata": {},
   "outputs": [
    {
     "name": "stdout",
     "output_type": "stream",
     "text": [
      "120\n"
     ]
    }
   ],
   "source": [
    "#factorial using recursion\n",
    "def factorial(n):\n",
    "    if n == 0 or n == 1:\n",
    "        return 1\n",
    "    else:\n",
    "        return n * factorial(n - 1) \n",
    "print(factorial(5))"
   ]
  },
  {
   "cell_type": "code",
   "execution_count": 26,
   "id": "fe853842",
   "metadata": {},
   "outputs": [
    {
     "name": "stdout",
     "output_type": "stream",
     "text": [
      "8\n"
     ]
    }
   ],
   "source": [
    "def power(b,e):\n",
    "    if e == 0:\n",
    "        return 1    \n",
    "    else:\n",
    "        b=b*power(b,e-1)\n",
    "    return b\n",
    "print(power(2,3))  # Output: 8"
   ]
  },
  {
   "cell_type": "code",
   "execution_count": 31,
   "id": "0c95faa1",
   "metadata": {},
   "outputs": [
    {
     "name": "stdout",
     "output_type": "stream",
     "text": [
      "9\n"
     ]
    }
   ],
   "source": [
    "def sum_of_digits(n):\n",
    "    if n == 0:\n",
    "        return 0\n",
    "    else:\n",
    "        return n % 10 + sum_of_digits(n // 10)\n",
    "print(sum_of_digits(45))  # Output: 10"
   ]
  },
  {
   "cell_type": "code",
   "execution_count": 29,
   "id": "95ec5f87",
   "metadata": {},
   "outputs": [
    {
     "name": "stdout",
     "output_type": "stream",
     "text": [
      "13\n"
     ]
    }
   ],
   "source": [
    "def fibonacci(n):\n",
    "    if n==0:\n",
    "        return 0\n",
    "    elif n==1:  \n",
    "        return 1\n",
    "    else:\n",
    "        return fibonacci(n-1) + fibonacci(n-2)\n",
    "print(fibonacci(int(input())))  # Output: 5"
   ]
  },
  {
   "cell_type": "code",
   "execution_count": 35,
   "id": "0b6d1d84",
   "metadata": {},
   "outputs": [
    {
     "name": "stdout",
     "output_type": "stream",
     "text": [
      "13\n"
     ]
    }
   ],
   "source": [
    "#fibanacci normally\n",
    "def fibonacci_iterative(n):\n",
    "    a, b = 0, 1\n",
    "    for _ in range(n):\n",
    "        a, b = b, a + b\n",
    "    return a\n",
    "print(fibonacci_iterative(int(input())))  # Output: 5"
   ]
  },
  {
   "cell_type": "code",
   "execution_count": 41,
   "id": "04ad3ef9",
   "metadata": {},
   "outputs": [
    {
     "name": "stdout",
     "output_type": "stream",
     "text": [
      "78\n"
     ]
    }
   ],
   "source": [
    "def find_max(l):\n",
    "    if len(l) == 1:\n",
    "        return l[0]\n",
    "    else:\n",
    "        m = find_max(l[1:])\n",
    "        return l[0] if l[0] > m else m\n",
    "\n",
    "print(find_max([1, 2, 3,78,43,21,11, 4, 5]))  \n"
   ]
  },
  {
   "cell_type": "code",
   "execution_count": null,
   "id": "619dd5ac",
   "metadata": {},
   "outputs": [
    {
     "ename": "TypeError",
     "evalue": "'int' object is not subscriptable",
     "output_type": "error",
     "traceback": [
      "\u001b[1;31m---------------------------------------------------------------------------\u001b[0m",
      "\u001b[1;31mTypeError\u001b[0m                                 Traceback (most recent call last)",
      "Cell \u001b[1;32mIn[46], line 9\u001b[0m\n\u001b[0;32m      6\u001b[0m     \u001b[38;5;28;01melse\u001b[39;00m:\n\u001b[0;32m      7\u001b[0m         \u001b[38;5;28;01mreturn\u001b[39;00m count_zeros(l[\u001b[38;5;241m1\u001b[39m:])\n\u001b[1;32m----> 9\u001b[0m \u001b[38;5;28mprint\u001b[39m(\u001b[43mcount_zeros\u001b[49m\u001b[43m(\u001b[49m\u001b[38;5;241;43m100\u001b[39;49m\u001b[43m)\u001b[49m)  \u001b[38;5;66;03m# Output: 4\u001b[39;00m\n",
      "Cell \u001b[1;32mIn[46], line 4\u001b[0m, in \u001b[0;36mcount_zeros\u001b[1;34m(l)\u001b[0m\n\u001b[0;32m      2\u001b[0m \u001b[38;5;28;01mif\u001b[39;00m \u001b[38;5;129;01mnot\u001b[39;00m l:\n\u001b[0;32m      3\u001b[0m     \u001b[38;5;28;01mreturn\u001b[39;00m \u001b[38;5;241m0\u001b[39m\n\u001b[1;32m----> 4\u001b[0m \u001b[38;5;28;01mif\u001b[39;00m \u001b[43ml\u001b[49m\u001b[43m[\u001b[49m\u001b[38;5;241;43m0\u001b[39;49m\u001b[43m]\u001b[49m \u001b[38;5;241m==\u001b[39m \u001b[38;5;241m0\u001b[39m:\n\u001b[0;32m      5\u001b[0m     \u001b[38;5;28;01mreturn\u001b[39;00m \u001b[38;5;241m1\u001b[39m \u001b[38;5;241m+\u001b[39m count_zeros(l[\u001b[38;5;241m1\u001b[39m:])\n\u001b[0;32m      6\u001b[0m \u001b[38;5;28;01melse\u001b[39;00m:\n",
      "\u001b[1;31mTypeError\u001b[0m: 'int' object is not subscriptable"
     ]
    }
   ],
   "source": [
    "#count no of zeros using recursion\n",
    "def count_zeros(n):\n",
    "    if n == 0:\n",
    "        return 1\n",
    "    if n < 10:\n",
    "        return 0\n",
    "    return (1 if n % 10 == 0 else 0) + count_zeros(n // 10)\n",
    "print(count_zeros(1030)) "
   ]
  },
  {
   "cell_type": "code",
   "execution_count": 47,
   "id": "2d0096b2",
   "metadata": {},
   "outputs": [
    {
     "name": "stdout",
     "output_type": "stream",
     "text": [
      "23\n",
      "-1\n"
     ]
    }
   ],
   "source": [
    "# *** binary search using recursion\n",
    "def binary_search(arr, key, start, end):\n",
    "    if start > end:\n",
    "        return -1\n",
    "    middle = (start + end)//2\n",
    "    \n",
    "    if arr[middle] == key:\n",
    "        return arr[middle]\n",
    "    elif key < arr[middle]:\n",
    "        return binary_search(arr, key, start, middle-1)\n",
    "    else:\n",
    "        return binary_search(arr, key, middle+1, end)\n",
    "\n",
    "li = [1,2,4,7,9,23,99]\n",
    "start = 0\n",
    "end = len(li)-1\n",
    "print(binary_search(li, 23,start, end))\n",
    "print(binary_search(li, 44,start, end))"
   ]
  },
  {
   "cell_type": "code",
   "execution_count": null,
   "id": "a4556bcc",
   "metadata": {},
   "outputs": [],
   "source": [
    "def linear_search(arr, key, index=0):\n",
    "    if index >= len(arr):\n",
    "        return -1  # Not found\n",
    "    if arr[index] == key:\n",
    "        return index\n",
    "    return linear_search(arr, key, index + 1)\n",
    "\n",
    "# Example usage:\n",
    "li = [1, 2, 4, 7, 9, 23, 99]\n",
    "print(linear_search(li, 23))  # Output: 5\n",
    "print(linear_search(li, 44))  # Output: -1 "
   ]
  },
  {
   "cell_type": "code",
   "execution_count": null,
   "id": "f53f5d4a",
   "metadata": {},
   "outputs": [
    {
     "name": "stdout",
     "output_type": "stream",
     "text": [
      "Inorder (recursive): [3, 5, 7]\n",
      "Preorder (recursive): [5, 3, 7]\n",
      "Postorder (recursive): [3, 7, 5]\n"
     ]
    }
   ],
   "source": [
    "class Node:\n",
    "    def __init__(self, data):\n",
    "        self.data = data\n",
    "        self.left = None\n",
    "        self.right = None\n",
    "\n",
    "class BinaryTree:\n",
    "    def __init__(self):\n",
    "        self.root = None\n",
    "\n",
    "    def insert(self, data):\n",
    "        if self.root is None:\n",
    "            self.root = Node(data)\n",
    "        else:\n",
    "            current = self.root\n",
    "            while True:\n",
    "                if data < current.data:\n",
    "                    if current.left is None:\n",
    "                        current.left = Node(data)\n",
    "                        break\n",
    "                    else:\n",
    "                        current = current.left\n",
    "                else:\n",
    "                    if current.right is None:\n",
    "                        current.right = Node(data)\n",
    "                        break\n",
    "                    else:\n",
    "                        current = current.right\n",
    "\n",
    "def inorder_recursive(node):\n",
    "    if node is None:\n",
    "        return []\n",
    "    return inorder_recursive(node.left) + [node.data] + inorder_recursive(node.right)\n",
    "\n",
    "def preorder_recursive(node):\n",
    "    if node is None:\n",
    "        return []\n",
    "    return [node.data] + preorder_recursive(node.left) + preorder_recursive(node.right)\n",
    "\n",
    "def postorder_recursive(node):\n",
    "    if node is None:\n",
    "        return []\n",
    "    return postorder_recursive(node.left) + postorder_recursive(node.right) + [node.data]\n",
    "\n",
    "# Example usage.3\n",
    "\n",
    "bt = BinaryTree()\n",
    "bt.insert(5)\n",
    "bt.insert(3)\n",
    "bt.insert(7)\n",
    "\n",
    "print(\"Inorder (recursive):\", inorder_recursive(bt.root))\n",
    "print(\"Preorder (recursive):\", preorder_recursive(bt.root))\n",
    "print(\"Postorder (recursive):\", postorder_recursive(bt.root))\n"
   ]
  },
  {
   "cell_type": "code",
   "execution_count": null,
   "id": "ac1c14cc",
   "metadata": {},
   "outputs": [],
   "source": [
    "#tower of hanoi using recursion \n"
   ]
  },
  {
   "cell_type": "code",
   "execution_count": null,
   "id": "dff2b0a6",
   "metadata": {},
   "outputs": [],
   "source": [
    "class Node:\n",
    "    def __init__(self, data):\n",
    "        self.data = data\n",
    "        self.left = None\n",
    "        self.right = None\n",
    "class AVL:\n",
    "    def insert(self, root, data):\n",
    "        if not root:\n",
    "            return Node(data)\n",
    "        elif data < root.data:\n",
    "            root.left = self.insert(root.left, data)\n",
    "        else:\n",
    "            root.right = self.insert(root.right, data)\n",
    "\n",
    "        balance = self.balance_factor(root)\n",
    "\n",
    "        # Left Left Case\n",
    "        if balance > 1 and data < root.left.data:\n",
    "            return self.rotate_right(root)\n",
    "\n",
    "        # Right Right Case\n",
    "        if balance < -1 and data > root.right.data:\n",
    "            return self.rotate_left(root)\n",
    "\n",
    "        # Left Right Case\n",
    "        if balance > 1 and data > root.left.data:\n",
    "            root.left = self.rotate_left(root.left)\n",
    "            return self.rotate_right(root)\n",
    "\n",
    "        # Right Left Case\n",
    "        if balance < -1 and data < root.right.data:\n",
    "            root.right = self.rotate_right(root.right)\n",
    "            return self.rotate_left(root)\n",
    "\n",
    "        return root"
   ]
  },
  {
   "cell_type": "code",
   "execution_count": null,
   "id": "71cbb777",
   "metadata": {},
   "outputs": [],
   "source": []
  }
 ],
 "metadata": {
  "kernelspec": {
   "display_name": "Python 3",
   "language": "python",
   "name": "python3"
  },
  "language_info": {
   "codemirror_mode": {
    "name": "ipython",
    "version": 3
   },
   "file_extension": ".py",
   "mimetype": "text/x-python",
   "name": "python",
   "nbconvert_exporter": "python",
   "pygments_lexer": "ipython3",
   "version": "3.12.7"
  }
 },
 "nbformat": 4,
 "nbformat_minor": 5
}
