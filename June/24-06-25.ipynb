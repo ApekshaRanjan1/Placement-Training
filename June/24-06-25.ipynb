{
 "cells": [
  {
   "cell_type": "markdown",
   "id": "47387761",
   "metadata": {},
   "source": [
    "Implement queue using stack"
   ]
  },
  {
   "cell_type": "code",
   "execution_count": null,
   "id": "267be449",
   "metadata": {},
   "outputs": [
    {
     "name": "stdout",
     "output_type": "stream",
     "text": [
      "Queue with Stack Implementation\n",
      "1. Enqueue\n",
      "2. Dequeue\n",
      "3. Exit\n"
     ]
    },
    {
     "ename": "TypeError",
     "evalue": "stack() missing 1 required positional argument: 's'",
     "output_type": "error",
     "traceback": [
      "\u001b[1;31m---------------------------------------------------------------------------\u001b[0m",
      "\u001b[1;31mTypeError\u001b[0m                                 Traceback (most recent call last)",
      "Cell \u001b[1;32mIn[1], line 29\u001b[0m\n\u001b[0;32m     26\u001b[0m c\u001b[38;5;241m=\u001b[39m\u001b[38;5;28minput\u001b[39m(\u001b[38;5;124m\"\u001b[39m\u001b[38;5;124mEnter your choice: \u001b[39m\u001b[38;5;124m\"\u001b[39m)\n\u001b[0;32m     28\u001b[0m \u001b[38;5;28;01mif\u001b[39;00m c \u001b[38;5;241m==\u001b[39m \u001b[38;5;124m'\u001b[39m\u001b[38;5;124m1\u001b[39m\u001b[38;5;124m'\u001b[39m:\n\u001b[1;32m---> 29\u001b[0m     enqueue, dequeue \u001b[38;5;241m=\u001b[39m \u001b[43mqueue_with_stack\u001b[49m\u001b[43m(\u001b[49m\u001b[43m)\u001b[49m\n\u001b[0;32m     30\u001b[0m     x \u001b[38;5;241m=\u001b[39m \u001b[38;5;28minput\u001b[39m(\u001b[38;5;124m\"\u001b[39m\u001b[38;5;124mEnter element to enqueue: \u001b[39m\u001b[38;5;124m\"\u001b[39m)\n\u001b[0;32m     31\u001b[0m     enqueue(x)\n",
      "Cell \u001b[1;32mIn[1], line 11\u001b[0m, in \u001b[0;36mqueue_with_stack\u001b[1;34m()\u001b[0m\n\u001b[0;32m     10\u001b[0m \u001b[38;5;28;01mdef\u001b[39;00m \u001b[38;5;21mqueue_with_stack\u001b[39m():\n\u001b[1;32m---> 11\u001b[0m     s1 \u001b[38;5;241m=\u001b[39m \u001b[43mstack\u001b[49m\u001b[43m(\u001b[49m\u001b[43m)\u001b[49m\n\u001b[0;32m     12\u001b[0m     s2 \u001b[38;5;241m=\u001b[39m stack()\n\u001b[0;32m     14\u001b[0m     \u001b[38;5;28;01mdef\u001b[39;00m \u001b[38;5;21menqueue\u001b[39m(x):\n",
      "\u001b[1;31mTypeError\u001b[0m: stack() missing 1 required positional argument: 's'"
     ]
    }
   ],
   "source": [
    "def enqueue(s,item):\n",
    "    s.append(item)\n",
    "\n",
    "def dequeue(s,):\n",
    "    \n",
    "\n",
    "def queue_with_stack():\n",
    "    s1=[]\n",
    "    s2=[]\n",
    " \n",
    "    \n",
    "        \n",
    "    \n",
    "\n",
    "\n",
    "print(\"Queue with Stack Implementation\\n1. Enqueue\\n2. Dequeue\\n3. Exit\")\n",
    "c=input(\"Enter your choice: \")\n",
    "\n",
    "if c == '1':\n",
    "    x = input(\"Enter element to enqueue: \")\n",
    "    enqueue(x)\n",
    "    print(f\"Enqueued: {x}\")\n",
    "elif c == '2':\n",
    "    enqueue, dequeue = queue_with_stack()\n",
    "    x = dequeue()\n",
    "    if x is not None:\n",
    "        print(f\"Dequeued: {x}\")\n",
    "    else:\n",
    "        print(\"Queue is empty.\")\n",
    "elif c == '3':\n",
    "    print(\"Exiting...\")\n",
    "else:       \n",
    "    print(\"Invalid choice. Please try again.\")"
   ]
  },
  {
   "cell_type": "code",
   "execution_count": null,
   "id": "9ab60cc0",
   "metadata": {},
   "outputs": [],
   "source": [
    "#ma'am method\n",
    " "
   ]
  },
  {
   "cell_type": "markdown",
   "id": "c46b71cd",
   "metadata": {},
   "source": [
    "### TREES\n",
    "\n",
    "- **Degree:** Number of child nodes  \n",
    "- **Leaf node:** No child nodes of their own  \n",
    "- **Ancestor:** Upper nodes (parent, grandparent)  \n",
    "- **Descendent:** Lower nodes (child nodes)  \n",
    "- **Uncle node:** Sibling of parent  \n",
    "\n",
    "### Binary Tree\n",
    "\n",
    "- Maximum 2 child nodes  \n",
    "- **Level:** Number of generations (root is level 0)  \n",
    "- **Height:** Longest stretch  \n",
    "- **Complete binary tree:** All leaf nodes should be on the same level  \n",
    "- **Strict binary tree:** All nodes should have 0 or 2 child nodes  \n",
    "- **Extended binary tree:** Converting complete tree to strict tree  \n",
    "- **Diameter:** Height of (left sub tree + right sub tree)  \n",
    "- **Width:** Maximum number of nodes in a level  \n",
    "- **Level order traversing / DFS:** inorder, preorder, postorder  \n",
    "\n"
   ]
  },
  {
   "cell_type": "code",
   "execution_count": 4,
   "id": "00f504cc",
   "metadata": {},
   "outputs": [
    {
     "name": "stdout",
     "output_type": "stream",
     "text": [
      "[1, 2, 3, 4, 5, 6, 7]\n"
     ]
    }
   ],
   "source": [
    "class Node:\n",
    "  def __init__(self, data):\n",
    "    self.data = data\n",
    "    self.left = None\n",
    "    self.right = None\n",
    "\n",
    "root=Node(1)\n",
    "root.left = Node(2)\n",
    "root.right = Node(3)\n",
    "root.left.left = Node(4)\n",
    "root.left.right = Node(5)\n",
    "root.right.left = Node(6)\n",
    "root.right.right = Node(7)\n",
    "\n",
    "# BFS Code\n",
    "queue = []\n",
    "res = []\n",
    "queue.append(root)\n",
    "\n",
    "while queue:\n",
    "  if queue[0].left:\n",
    "    queue.append(queue[0].left)\n",
    "  if queue[0].right:\n",
    "    queue.append(queue[0].right)\n",
    "  res.append(queue.pop(0).data)\n",
    "\n",
    "print(res)"
   ]
  },
  {
   "cell_type": "code",
   "execution_count": 6,
   "id": "61610569",
   "metadata": {},
   "outputs": [
    {
     "name": "stdout",
     "output_type": "stream",
     "text": [
      "[100, 50, 120, 43, 89, 109, 125, 20, 67, 123, 130, 78, 132]\n"
     ]
    }
   ],
   "source": [
    "# 100,50,120,89,67,43,20,78,125,130.,32,123\n",
    "class Node:\n",
    "  def __init__(self, data):\n",
    "    self.data = data\n",
    "    self.left = None\n",
    "    self.right = None\n",
    "root=None\n",
    "a=[100,50,120,89,67,43,20,78,125,130,132,123,109]\n",
    "for i in a:\n",
    "    if root is None:\n",
    "        root = Node(i)\n",
    "    else:\n",
    "        current = root\n",
    "        while True:\n",
    "            if i < current.data:\n",
    "                if current.left is None:\n",
    "                    current.left = Node(i)\n",
    "                    break\n",
    "                else:\n",
    "                    current = current.left\n",
    "            else:\n",
    "                if current.right is None:\n",
    "                    current.right = Node(i)\n",
    "                    break\n",
    "                else:\n",
    "                    current = current.right\n",
    "queue = []\n",
    "res = []\n",
    "queue.append(root)\n",
    "\n",
    "while queue:\n",
    "  if queue[0].left:\n",
    "    queue.append(queue[0].left)\n",
    "  if queue[0].right:\n",
    "    queue.append(queue[0].right)\n",
    "  res.append(queue.pop(0).data)\n",
    "\n",
    "print(res)             "
   ]
  },
  {
   "cell_type": "code",
   "execution_count": null,
   "id": "ab3c3952",
   "metadata": {},
   "outputs": [
    {
     "ename": "SyntaxError",
     "evalue": "invalid syntax (3654573839.py, line 42)",
     "output_type": "error",
     "traceback": [
      "\u001b[1;36m  Cell \u001b[1;32mIn[8], line 42\u001b[1;36m\u001b[0m\n\u001b[1;33m    print(\"Element not found\")+\u001b[0m\n\u001b[1;37m                               ^\u001b[0m\n\u001b[1;31mSyntaxError\u001b[0m\u001b[1;31m:\u001b[0m invalid syntax\n"
     ]
    }
   ],
   "source": [
    "#binary search\n",
    "def binary_search(arr, target):\n",
    "    low = 0\n",
    "    high = len(arr) - 1\n",
    "\n",
    "    while low <= high:\n",
    "        mid = (low + high) // 2\n",
    "\n",
    "        if arr[mid] == target:\n",
    "            return mid\n",
    "        elif arr[mid] < target:\n",
    "            low = mid + 1\n",
    "        else:\n",
    "            high = mid - 1\n",
    "\n",
    "    return -1\n",
    "def delete_node(root, key):\n",
    "    if root is None:\n",
    "        return root\n",
    "\n",
    "    if key < root.data:\n",
    "        root.left = delete_node(root.left, key)\n",
    "    elif key > root.data:\n",
    "        root.right = delete_node(root.right, key)\n",
    "    else:\n",
    "        if root.left is None:\n",
    "            return root.right\n",
    "        elif root.right is None:\n",
    "            return root.left\n",
    "        temp = min_value_node(root.right)\n",
    "        root.data = temp.data\n",
    "        root.right = delete_node(root.right, temp.data)\n",
    "\n",
    "    return root\n",
    "arr = [2, 4, 6, 8, 10, 12, 14]\n",
    "target = 10\n",
    "\n",
    "result = binary_search(arr, target)\n",
    "if result != -1:\n",
    "    print(f\"Element found at index {result}\")\n",
    "else:\n",
    "    print(\"Element not found\")\n",
    "d=int(input(\"Enter the element to delete: \"))\n",
    "root = delete_node(root, d)\n",
    "\n",
    "if result != -1:\n",
    "    print(f\"Element found at index {result}\")\n",
    "else:\n",
    "    print(\"Element not found\")\n",
    "\n",
    "\n"
   ]
  },
  {
   "cell_type": "code",
   "execution_count": null,
   "id": "f7a94c50",
   "metadata": {},
   "outputs": [],
   "source": [
    "#hieght of binary search tree\n"
   ]
  }
 ],
 "metadata": {
  "kernelspec": {
   "display_name": "Python 3",
   "language": "python",
   "name": "python3"
  },
  "language_info": {
   "codemirror_mode": {
    "name": "ipython",
    "version": 3
   },
   "file_extension": ".py",
   "mimetype": "text/x-python",
   "name": "python",
   "nbconvert_exporter": "python",
   "pygments_lexer": "ipython3",
   "version": "3.12.7"
  }
 },
 "nbformat": 4,
 "nbformat_minor": 5
}
