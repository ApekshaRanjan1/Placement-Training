{
 "cells": [
  {
   "cell_type": "markdown",
   "metadata": {},
   "source": [
    "Linked list"
   ]
  },
  {
   "cell_type": "code",
   "execution_count": 6,
   "metadata": {},
   "outputs": [
    {
     "name": "stdout",
     "output_type": "stream",
     "text": [
      "[ 10 | <__main__.node object at 0x00000278C1C98620> ] -> [ 20 | <__main__.node object at 0x00000278C1C98500> ] -> [ 30 | None ] -> "
     ]
    }
   ],
   "source": [
    "class node:\n",
    "    def __init__(self,data):\n",
    "        self.data=data\n",
    "        self.next=None\n",
    "class Linkedlist:\n",
    "    def __init__(self):\n",
    "        self.head=None\n",
    "        # self.tail=None\n",
    "    # def addnode(self,value):\n",
    "    #     node=Node(value)\n",
    "    #     if self.head is None:\n",
    "    #         self.head.next=node\n",
    "    #         self.tail=node\n",
    "o=Linkedlist()\n",
    "o.head=node(10)  \n",
    "second=node(20)\n",
    "third=node(30)\n",
    "#connect nodes\n",
    "o.head.next=second\n",
    "second.next= third\n",
    "third.next= None\n",
    "\n",
    "while o.head is not None:\n",
    "    print(\"[\",o.head.data,\"|\",o.head.next,\"]\",\"->\", end=\" \")\n",
    "    o.head=o.head.next      \n",
    "        \n",
    "\n",
    "        "
   ]
  },
  {
   "cell_type": "code",
   "execution_count": 17,
   "metadata": {},
   "outputs": [
    {
     "name": "stdout",
     "output_type": "stream",
     "text": [
      "1.Add node to linked list:\n",
      "2.Add node in beggining:\n",
      "3.Add node in between:\n",
      "4.Add node at end:\n",
      "5.Display linked list:\n",
      "6.Exit\n"
     ]
    },
    {
     "name": "stdout",
     "output_type": "stream",
     "text": [
      "node added\n",
      "1.Add node to linked list:\n",
      "2.Add node in beggining:\n",
      "3.Add node in between:\n",
      "4.Add node at end:\n",
      "5.Display linked list:\n",
      "6.Exit\n",
      "node added\n",
      "1.Add node to linked list:\n",
      "2.Add node in beggining:\n",
      "3.Add node in between:\n",
      "4.Add node at end:\n",
      "5.Display linked list:\n",
      "6.Exit\n",
      "node added\n",
      "1.Add node to linked list:\n",
      "2.Add node in beggining:\n",
      "3.Add node in between:\n",
      "4.Add node at end:\n",
      "5.Display linked list:\n",
      "6.Exit\n",
      "Linked list:\n",
      "[ 23 | 2717671150304 ]->[ 24 | 2717644019312 ]->[ 25 | 140703288504800 ]->None\n",
      "1.Add node to linked list:\n",
      "2.Add node in beggining:\n",
      "3.Add node in between:\n",
      "4.Add node at end:\n",
      "5.Display linked list:\n",
      "6.Exit\n",
      "node added in between\n",
      "1.Add node to linked list:\n",
      "2.Add node in beggining:\n",
      "3.Add node in between:\n",
      "4.Add node at end:\n",
      "5.Display linked list:\n",
      "6.Exit\n",
      "Linked list:\n",
      "[ 1 | 2717671154624 ]->[ 23 | 2717671150304 ]->[ 24 | 2717644019312 ]->[ 25 | 140703288504800 ]->None\n",
      "1.Add node to linked list:\n",
      "2.Add node in beggining:\n",
      "3.Add node in between:\n",
      "4.Add node at end:\n",
      "5.Display linked list:\n",
      "6.Exit\n",
      "node added in the beggining\n",
      "1.Add node to linked list:\n",
      "2.Add node in beggining:\n",
      "3.Add node in between:\n",
      "4.Add node at end:\n",
      "5.Display linked list:\n",
      "6.Exit\n",
      "Linked list:\n",
      "[ 22 | 2717671150496 ]->[ 1 | 2717671154624 ]->[ 23 | 2717671150304 ]->[ 24 | 2717644019312 ]->[ 25 | 140703288504800 ]->None\n",
      "1.Add node to linked list:\n",
      "2.Add node in beggining:\n",
      "3.Add node in between:\n",
      "4.Add node at end:\n",
      "5.Display linked list:\n",
      "6.Exit\n",
      "node added in between\n",
      "1.Add node to linked list:\n",
      "2.Add node in beggining:\n",
      "3.Add node in between:\n",
      "4.Add node at end:\n",
      "5.Display linked list:\n",
      "6.Exit\n",
      "Linked list:\n",
      "[ 22 | 2717670803024 ]->[ 56 | 2717671150496 ]->[ 1 | 2717671154624 ]->[ 23 | 2717671150304 ]->[ 24 | 2717644019312 ]->[ 25 | 140703288504800 ]->None\n",
      "1.Add node to linked list:\n",
      "2.Add node in beggining:\n",
      "3.Add node in between:\n",
      "4.Add node at end:\n",
      "5.Display linked list:\n",
      "6.Exit\n",
      "node added in between\n",
      "1.Add node to linked list:\n",
      "2.Add node in beggining:\n",
      "3.Add node in between:\n",
      "4.Add node at end:\n",
      "5.Display linked list:\n",
      "6.Exit\n",
      "Linked list:\n",
      "[ 22 | 2717670803024 ]->[ 56 | 2717671154096 ]->[ 44 | 2717671150496 ]->[ 1 | 2717671154624 ]->[ 23 | 2717671150304 ]->[ 24 | 2717644019312 ]->[ 25 | 140703288504800 ]->None\n",
      "1.Add node to linked list:\n",
      "2.Add node in beggining:\n",
      "3.Add node in between:\n",
      "4.Add node at end:\n",
      "5.Display linked list:\n",
      "6.Exit\n"
     ]
    },
    {
     "ename": "ValueError",
     "evalue": "invalid literal for int() with base 10: ''",
     "output_type": "error",
     "traceback": [
      "\u001b[1;31m---------------------------------------------------------------------------\u001b[0m",
      "\u001b[1;31mValueError\u001b[0m                                Traceback (most recent call last)",
      "Cell \u001b[1;32mIn[17], line 67\u001b[0m\n\u001b[0;32m     65\u001b[0m \u001b[38;5;28mprint\u001b[39m(\u001b[38;5;124m\"\u001b[39m\u001b[38;5;124m5.Display linked list:\u001b[39m\u001b[38;5;124m\"\u001b[39m)\n\u001b[0;32m     66\u001b[0m \u001b[38;5;28mprint\u001b[39m(\u001b[38;5;124m\"\u001b[39m\u001b[38;5;124m6.Exit\u001b[39m\u001b[38;5;124m\"\u001b[39m)\n\u001b[1;32m---> 67\u001b[0m ch\u001b[38;5;241m=\u001b[39m\u001b[38;5;28;43mint\u001b[39;49m\u001b[43m(\u001b[49m\u001b[38;5;28;43minput\u001b[39;49m\u001b[43m(\u001b[49m\u001b[38;5;124;43m\"\u001b[39;49m\u001b[38;5;124;43mEnter your choice:\u001b[39;49m\u001b[38;5;124;43m\"\u001b[39;49m\u001b[43m)\u001b[49m\u001b[43m)\u001b[49m\n\u001b[0;32m     68\u001b[0m \u001b[38;5;28;01mif\u001b[39;00m ch\u001b[38;5;241m==\u001b[39m\u001b[38;5;241m1\u001b[39m:\n\u001b[0;32m     69\u001b[0m     v\u001b[38;5;241m=\u001b[39m\u001b[38;5;28mint\u001b[39m(\u001b[38;5;28minput\u001b[39m(\u001b[38;5;124m\"\u001b[39m\u001b[38;5;124mEnter value to be added:\u001b[39m\u001b[38;5;124m\"\u001b[39m))\n",
      "\u001b[1;31mValueError\u001b[0m: invalid literal for int() with base 10: ''"
     ]
    }
   ],
   "source": [
    "class Node:\n",
    "    def __init__(self,data):\n",
    "        self.data=data\n",
    "        self.next=None\n",
    "class Linkedlist:\n",
    "    def __init__(self):\n",
    "        self.head=None\n",
    "    def addnode(self,value):\n",
    "        node=Node(value)\n",
    "        if self.head is None:\n",
    "            self.head=node\n",
    "            self.tail=node\n",
    "        else:\n",
    "            self.tail.next=node\n",
    "            self.tail=node\n",
    "    def addnodebeg(self,value):\n",
    "        node=Node(value)\n",
    "        if self.head is None:\n",
    "            self.head=node\n",
    "            self.tail=node\n",
    "        else:\n",
    "            node.next=self.head\n",
    "            self.head=node\n",
    "    def addnodebetween(self,value,position):\n",
    "        node = Node(value)\n",
    "        if position == 1:\n",
    "            self.addnodebeg(value)\n",
    "            return\n",
    "        temp = self.head\n",
    "        count = 1\n",
    "        while temp is not None and count < position - 1:\n",
    "            temp = temp.next\n",
    "            count += 1\n",
    "        if temp is None or temp.next is None:\n",
    "            print(\"Invalid position! Adding at the end instead.\")\n",
    "            self.addnodeend(value)\n",
    "        else:\n",
    "            node.next = temp.next\n",
    "            temp.next = node\n",
    "     \n",
    "    def addnodeend(self,value):\n",
    "        node=Node(value)\n",
    "        if self.head is None:\n",
    "            self.head=node\n",
    "            self.tail=node\n",
    "        else:\n",
    "            self.tail.next=node\n",
    "            self.tail=node\n",
    "        \n",
    "    def display(self):\n",
    "        temp=self.head\n",
    "        while temp is not None:\n",
    "            #showing the address of next node\n",
    "            print(\"[\",temp.data,\"|\",id(temp.next),\"]\",end=\"->\")\n",
    "            temp=temp.next\n",
    "        print(\"None\")\n",
    "        \n",
    "if __name__ == \"__main__\":\n",
    "    o=Linkedlist()\n",
    "    while True:\n",
    "            print(\"1.Add node to linked list:\")\n",
    "            print(\"2.Add node in beggining:\")\n",
    "            print(\"3.Add node in between:\")\n",
    "            print(\"4.Add node at end:\")\n",
    "            print(\"5.Display linked list:\")\n",
    "            print(\"6.Exit\")\n",
    "            ch=int(input(\"Enter your choice:\"))\n",
    "            if ch==1:\n",
    "                v=int(input(\"Enter value to be added:\"))\n",
    "                o.addnode(v)\n",
    "                print(\"node added\")\n",
    "            elif ch==2:\n",
    "                v=int(input(\"Enter value to be added in the beggining:\"))\n",
    "                o.addnodebeg(v)\n",
    "                print(\"node added in the beggining\")\n",
    "            elif ch==3:\n",
    "                v=int(input(\"Enter value to be added:\"))\n",
    "                p=int(input(\"Enter position:\"))\n",
    "                o.addnodebetween(v,p)\n",
    "                print(\"node added in between\")\n",
    "            elif ch==4:\n",
    "                v=int(input(\"Enter value to be added at end:\"))\n",
    "                o.addnodeend(v) \n",
    "                print(\"node added at end\")\n",
    "            elif ch==5:\n",
    "                print(\"Linked list:\")\n",
    "                o.display()\n",
    "            elif ch==6:\n",
    "                break\n",
    "            else:\n",
    "                print(\"Invalid choice\")\n",
    "                \n",
    "                "
   ]
  },
  {
   "cell_type": "code",
   "execution_count": 21,
   "metadata": {},
   "outputs": [
    {
     "ename": "TypeError",
     "evalue": "arith.add() missing 2 required positional arguments: 'b' and 'c'",
     "output_type": "error",
     "traceback": [
      "\u001b[1;31m---------------------------------------------------------------------------\u001b[0m",
      "\u001b[1;31mTypeError\u001b[0m                                 Traceback (most recent call last)",
      "Cell \u001b[1;32mIn[21], line 9\u001b[0m\n\u001b[0;32m      7\u001b[0m         \u001b[38;5;28mprint\u001b[39m(a\u001b[38;5;241m+\u001b[39mb\u001b[38;5;241m+\u001b[39mc)\n\u001b[0;32m      8\u001b[0m o\u001b[38;5;241m=\u001b[39marith()\n\u001b[1;32m----> 9\u001b[0m \u001b[43mo\u001b[49m\u001b[38;5;241;43m.\u001b[39;49m\u001b[43madd\u001b[49m\u001b[43m(\u001b[49m\u001b[38;5;241;43m10\u001b[39;49m\u001b[43m)\u001b[49m\n\u001b[0;32m     10\u001b[0m o\u001b[38;5;241m.\u001b[39madd(\u001b[38;5;241m10\u001b[39m,\u001b[38;5;241m20\u001b[39m)\n\u001b[0;32m     11\u001b[0m o\u001b[38;5;241m.\u001b[39madd(\u001b[38;5;241m10\u001b[39m,\u001b[38;5;241m20\u001b[39m,\u001b[38;5;241m30\u001b[39m)\n",
      "\u001b[1;31mTypeError\u001b[0m: arith.add() missing 2 required positional arguments: 'b' and 'c'"
     ]
    }
   ],
   "source": [
    "class arith:\n",
    "    def add(self,a):\n",
    "        print(a)\n",
    "    def add(self,a,b):\n",
    "        print(a+b)\n",
    "    def add(self,a,b,c):\n",
    "        print(a+b+c)\n",
    "o=arith()\n",
    "o.add(10)\n",
    "o.add(10,20)\n",
    "o.add(10,20,30)"
   ]
  },
  {
   "cell_type": "code",
   "execution_count": 22,
   "metadata": {},
   "outputs": [
    {
     "name": "stdout",
     "output_type": "stream",
     "text": [
      "Enter at least two values\n",
      "30\n",
      "30\n"
     ]
    }
   ],
   "source": [
    "class arith:\n",
    "    def add(self,a=0,b=0,c=0):\n",
    "        if a!=0 and b!=0:\n",
    "            print(a+b)\n",
    "        elif a!=0 and b!=0 and c!=0:        \n",
    "            print(a+b+c)\n",
    "        else:\n",
    "            print(\"Enter at least two values\")\n",
    "o=arith()\n",
    "o.add(10)               \n",
    "o.add(10,20)\n",
    "o.add(10,20,30)"
   ]
  },
  {
   "cell_type": "code",
   "execution_count": 23,
   "metadata": {},
   "outputs": [
    {
     "ename": "TypeError",
     "evalue": "arith.__init__() missing 2 required positional arguments: 'a' and 'b'",
     "output_type": "error",
     "traceback": [
      "\u001b[1;31m---------------------------------------------------------------------------\u001b[0m",
      "\u001b[1;31mTypeError\u001b[0m                                 Traceback (most recent call last)",
      "Cell \u001b[1;32mIn[23], line 8\u001b[0m\n\u001b[0;32m      6\u001b[0m     \u001b[38;5;28;01mdef\u001b[39;00m \u001b[38;5;21m__init__\u001b[39m(\u001b[38;5;28mself\u001b[39m,a,b):\n\u001b[0;32m      7\u001b[0m         \u001b[38;5;28mprint\u001b[39m(\u001b[38;5;124m\"\u001b[39m\u001b[38;5;124mTwo arguements\u001b[39m\u001b[38;5;124m\"\u001b[39m)\n\u001b[1;32m----> 8\u001b[0m o\u001b[38;5;241m=\u001b[39m\u001b[43marith\u001b[49m\u001b[43m(\u001b[49m\u001b[43m)\u001b[49m\n\u001b[0;32m      9\u001b[0m o\u001b[38;5;241m=\u001b[39marith(\u001b[38;5;241m10\u001b[39m)\n\u001b[0;32m     10\u001b[0m o\u001b[38;5;241m=\u001b[39marith(\u001b[38;5;241m10\u001b[39m,\u001b[38;5;241m20\u001b[39m)\n",
      "\u001b[1;31mTypeError\u001b[0m: arith.__init__() missing 2 required positional arguments: 'a' and 'b'"
     ]
    }
   ],
   "source": [
    "class arith:\n",
    "    def __init__(self):\n",
    "        print(\"No arguement\")\n",
    "    def __init__(self,a):\n",
    "        print(\"One arguement\")\n",
    "    def __init__(self,a,b):\n",
    "        print(\"Two arguements\")\n",
    "o=arith()\n",
    "o=arith(10)\n",
    "o=arith(10,20)"
   ]
  },
  {
   "cell_type": "code",
   "execution_count": 27,
   "metadata": {},
   "outputs": [
    {
     "name": "stdout",
     "output_type": "stream",
     "text": [
      "Home loan interest rate is 6.5%\n",
      "Home loan interest rate is 7.5%\n",
      "Car loan interest rate is 8%\n"
     ]
    }
   ],
   "source": [
    "class rbi:\n",
    "    def home_loan(self):\n",
    "        print(\"Home loan interest rate is 7.5%\")\n",
    "    def car_loan(self):\n",
    "        print(\"Car loan interest rate is 8%\")\n",
    "class sbi(rbi):\n",
    "    def home_loan(self):\n",
    "        print(\"Home loan interest rate is 6.5%\")\n",
    "        super().home_loan()\n",
    "o=sbi()\n",
    "o.home_loan()\n",
    "o.car_loan()"
   ]
  },
  {
   "cell_type": "code",
   "execution_count": 29,
   "metadata": {},
   "outputs": [
    {
     "name": "stdout",
     "output_type": "stream",
     "text": [
      "Child class\n",
      "Dad class\n"
     ]
    }
   ],
   "source": [
    "class dad:\n",
    "    def __init__(self):\n",
    "        print(\"Dad class\")\n",
    "class child(dad):\n",
    "    def __init__(self):\n",
    "        print(\"Child class\")\n",
    "        super().__init__()\n",
    "o=child()"
   ]
  },
  {
   "cell_type": "markdown",
   "metadata": {},
   "source": [
    "trees"
   ]
  },
  {
   "cell_type": "code",
   "execution_count": 3,
   "metadata": {},
   "outputs": [
    {
     "name": "stdout",
     "output_type": "stream",
     "text": [
      "Drinks\n",
      " Hot\n",
      "  Tea\n",
      "  Coffee\n",
      " Cold\n",
      "  Non-Alcoholic\n",
      "  Alcoholic\n",
      "\n"
     ]
    }
   ],
   "source": [
    "class trees:\n",
    "    def __init__(self,data):\n",
    "        self.data=data\n",
    "        self.children=[]\n",
    "    def addchild(self,child):\n",
    "        self.children.append(child)\n",
    "    def __str__(self,level=0):\n",
    "        ret=\" \"*level+str(self.data)+\"\\n\"\n",
    "        for child in self.children:\n",
    "            ret+=child.__str__(level+1)\n",
    "        return ret   \n",
    "rootnode=trees(\"Drinks\")\n",
    "hot=trees(\"Hot\")\n",
    "cold=trees(\"Cold\")\n",
    "tea=trees(\"Tea\")\n",
    "coffee=trees(\"Coffee\")\n",
    "nonAlcoholic=trees(\"Non-Alcoholic\")\n",
    "alcoholic=trees(\"Alcoholic\")\n",
    "rootnode.addchild(hot)\n",
    "rootnode.addchild(cold) \n",
    "hot.addchild(tea)\n",
    "hot.addchild(coffee)\n",
    "cold.addchild(nonAlcoholic)     \n",
    "cold.addchild(alcoholic)\n",
    "print(rootnode)        "
   ]
  },
  {
   "cell_type": "markdown",
   "metadata": {},
   "source": []
  },
  {
   "cell_type": "code",
   "execution_count": null,
   "metadata": {},
   "outputs": [],
   "source": [
    "class ques:\n",
    "    def __init__(self):\n",
    "        self.q=[]\n",
    "        self.o1=[]\n",
    "        self.o2=[]  \n",
    "        self.o3=[]\n",
    "        self.o4=[]\n",
    "        self.correctans=[]\n",
    "        self.countcorans=0\n",
    "        self.countwrongans=0\n",
    "        self.scoreperques=5\n",
    "        self.totalscore=0\n",
    "        self.stuname=None\n",
    "        self.stuid=None\n",
    "    def Studentinfo(self):\n",
    "        self.stuname=input(\"Enter student name:\")\n",
    "        self.stuid=input(\"Enter student id:\")\n",
    "    def addques(self,ques,o1,o2,o3,o4,correctans):\n",
    "        self.q.append(ques)\n",
    "        self.o1.append(o1)\n",
    "        self.o2.append(o2)\n",
    "        self.o3.append(o3)\n",
    "        self.o4.append(o4)\n",
    "        self.correctans.append(correctans)\n",
    "    def giveques(self):\n",
    "        for i in range(len(self.q)):\n",
    "            print(\"Ques:\",self.q[i])\n",
    "            print(\"1.\",self.o1[i])\n",
    "            print(\"2.\",self.o2[i])\n",
    "            print(\"3.\",self.o3[i])\n",
    "            print(\"4.\",self.o4[i])\n",
    "            ans=int(input(\"Enter your answer:\"))\n",
    "            if ans==self.correctans[i]:\n",
    "                self.countcorans+=1\n",
    "            else:\n",
    "                self.countwrongans+=1\n",
    "    def showscore(self):\n",
    "        self.totalscore=self.countcorans*self.scoreperques\n",
    "        print(\"Total score:\",self.totalscore)\n",
    "        print(\"Correct answers:\",self.countcorans)\n",
    "        print(\"Wrong answers:\",self.countwrongans)"
   ]
  }
 ],
 "metadata": {
  "kernelspec": {
   "display_name": "Python 3",
   "language": "python",
   "name": "python3"
  },
  "language_info": {
   "codemirror_mode": {
    "name": "ipython",
    "version": 3
   },
   "file_extension": ".py",
   "mimetype": "text/x-python",
   "name": "python",
   "nbconvert_exporter": "python",
   "pygments_lexer": "ipython3",
   "version": "3.12.7"
  }
 },
 "nbformat": 4,
 "nbformat_minor": 2
}
