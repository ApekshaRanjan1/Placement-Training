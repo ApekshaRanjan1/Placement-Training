{
 "cells": [
  {
   "cell_type": "code",
   "execution_count": 9,
   "metadata": {},
   "outputs": [
    {
     "name": "stdout",
     "output_type": "stream",
     "text": [
      "2 hours, 30 minutes and 45 seconds is 9045 seconds\n"
     ]
    }
   ],
   "source": [
    "#covert hrs min and secs into secs only\n",
    "#o/p=secs\n",
    "#process:hr/60\n",
    "#ip:hr min sec\n",
    "hr=int(input(\"Hours:\"))\n",
    "min=int(input(\"minutes\"))\n",
    "sec=int(input(\"Seconds:\"))\n",
    "print(hr,\"hours,\",min,\"minutes and\",sec,\"seconds is\",((hr*60)*60)+(min*60)+sec,\"seconds\")"
   ]
  },
  {
   "cell_type": "code",
   "execution_count": 13,
   "metadata": {},
   "outputs": [
    {
     "name": "stdout",
     "output_type": "stream",
     "text": [
      "Time in secs: 213342\n",
      "59 : 15 : 42\n"
     ]
    }
   ],
   "source": [
    "#time in secs and show in hh:mm:ss\n",
    "#op:hh:mm:ss\n",
    "#process:hr=sec//60*60, min=sec//60\n",
    "#ip:secs\n",
    "sec=int(input(\"seconds:\"))\n",
    "hr=sec//3600\n",
    "x=sec%3600\n",
    "min=x//60\n",
    "secs=x%60\n",
    "print(\"Time in secs:\",sec)\n",
    "print(hr,\":\",min,\":\",secs)"
   ]
  },
  {
   "cell_type": "code",
   "execution_count": null,
   "metadata": {},
   "outputs": [
    {
     "name": "stdout",
     "output_type": "stream",
     "text": [
      "500\n",
      "2000\n"
     ]
    }
   ],
   "source": [
    "#double data in x\n",
    "#dont use arithematic operator\n",
    "x=1000\n",
    "print(x>>1)\n",
    "print(x<<1)"
   ]
  },
  {
   "cell_type": "code",
   "execution_count": 19,
   "metadata": {},
   "outputs": [
    {
     "name": "stdout",
     "output_type": "stream",
     "text": [
      "at age 34 you can vote\n"
     ]
    }
   ],
   "source": [
    "age=int(input(\"Age:\"))\n",
    "if age>=18:\n",
    "    print(\"at age\",age,\"you can vote\")\n",
    "# if age<=18:\n",
    "else:\n",
    "    print(\"at age\",age,\"you can't vote\")"
   ]
  },
  {
   "cell_type": "code",
   "execution_count": 26,
   "metadata": {},
   "outputs": [
    {
     "name": "stdout",
     "output_type": "stream",
     "text": [
      "0 is 0\n"
     ]
    }
   ],
   "source": [
    "#check no +ve or -ve or 0\n",
    "no=int(input(\"No:\"))\n",
    "if no>0:\n",
    "    print(no,\"is +ve\")\n",
    "elif no==0:\n",
    "    print(no,\"is 0\")\n",
    "else:\n",
    "    print(no,\"is -ve \")\n",
    "    "
   ]
  },
  {
   "cell_type": "code",
   "execution_count": 28,
   "metadata": {},
   "outputs": [
    {
     "name": "stdout",
     "output_type": "stream",
     "text": [
      "---Bill---\n",
      "Total Amount: 6700.0\n",
      "Discount%: 10 %\n",
      "Discount: 670.0\n",
      "Amount: 6030.0\n"
     ]
    }
   ],
   "source": [
    "#give discount\n",
    "#ask for bill amount and 2% off if bill upto 2000\n",
    "#5% off if bill uoto 5000 and 10% of 10000 and above\n",
    "amt=float(input(\"Total amount:\"))\n",
    "print(\"---Bill---\")\n",
    "print(\"Total Amount:\",amt)\n",
    "if amt>0 and amt<2000:\n",
    "    d=2\n",
    "    dis=(2/100)*amt\n",
    "if amt>2000 and amt<=5000:\n",
    "    d=5\n",
    "    dis=(5/100)*amt\n",
    "else:\n",
    "    d=10\n",
    "    dis=(10/100)*amt\n",
    "print(\"Discount%:\",d,\"%\")\n",
    "print(\"Discount:\",dis)\n",
    "print(\"Amount:\",amt-dis)\n",
    "\n",
    "    \n",
    "    \n",
    "    "
   ]
  },
  {
   "cell_type": "code",
   "execution_count": null,
   "metadata": {},
   "outputs": [],
   "source": [
    "#add 2 times in hh:mm:ss\n",
    "#op=addes in hh:mm:ss\n",
    "#process:convert to secs then add then convert to hh:mm:ss\n",
    "#ip:2 hh:mm:ss\n",
    "print()\n",
    "hr1=int(\"\")"
   ]
  },
  {
   "cell_type": "code",
   "execution_count": 1,
   "metadata": {},
   "outputs": [
    {
     "name": "stdout",
     "output_type": "stream",
     "text": [
      "12 ruppes and 45 paise\n"
     ]
    }
   ],
   "source": [
    "#o/p=inr and paise\n",
    "#process:paise/100\n",
    "#ip:paise\n",
    "paise=int(input(\"Enter paise:\"))\n",
    "rs=paise//100\n",
    "p=paise%100\n",
    "print(rs, \"ruppes and\",p,\"paise\")"
   ]
  },
  {
   "cell_type": "code",
   "execution_count": 1,
   "metadata": {},
   "outputs": [
    {
     "name": "stdout",
     "output_type": "stream",
     "text": [
      "12345\n"
     ]
    }
   ],
   "source": [
    "#print1 to n where n>1 some no\n",
    "n=int(input(\"No:\"))\n",
    "i=1\n",
    "while i<n:\n",
    "    print(i,end=\"\")\n",
    "    i+=1\n",
    "print(i)"
   ]
  },
  {
   "cell_type": "code",
   "execution_count": 3,
   "metadata": {},
   "outputs": [
    {
     "name": "stdout",
     "output_type": "stream",
     "text": [
      "2 5 8 11 14 17 20 23 26\n"
     ]
    }
   ],
   "source": [
    "#start, end and step from user and print in increasing order\n",
    "s=int(input(\"Start:\"))\n",
    "st=int(input(\"Step:\"))\n",
    "e=int(input(\"End:\"))\n",
    "while s<e:\n",
    "    print (s,end=\" \")\n",
    "    s+=st\n",
    "print(s)"
   ]
  },
  {
   "cell_type": "code",
   "execution_count": null,
   "metadata": {},
   "outputs": [
    {
     "name": "stdout",
     "output_type": "stream",
     "text": [
      "543210-1-2\n"
     ]
    }
   ],
   "source": [
    "#read start and end from user and print the range\n",
    "s=int(input(\"Start:\"))\n",
    "e=int(input(\"End:\"))\n",
    "if s>e:\n",
    "    while s>e:\n",
    "        print(s, end=\" \")\n",
    "        s-=1\n",
    "    print(s)\n",
    "else:\n",
    "    while s<e:\n",
    "        print(s, end=\" \")\n",
    "        s+=1\n",
    "    print (s)        "
   ]
  },
  {
   "cell_type": "code",
   "execution_count": 12,
   "metadata": {},
   "outputs": [
    {
     "name": "stdout",
     "output_type": "stream",
     "text": [
      "1=\n",
      "2=Ying \n",
      "3=Yang \n",
      "4=Ying \n",
      "5=zing \n",
      "6=Ying Yang \n",
      "7=\n",
      "8=Ying \n",
      "9=Yang \n",
      "10=Ying zing \n",
      "11=\n",
      "12=Ying Yang \n",
      "13=\n",
      "14=Ying \n",
      "15=Yang zing \n",
      "16=Ying \n",
      "17=\n",
      "18=Ying Yang \n",
      "19=\n",
      "20=Ying zing \n",
      "21=Yang \n",
      "22=Ying \n",
      "23=\n",
      "24=Ying Yang \n",
      "25=zing \n",
      "26=Ying \n",
      "27=Yang \n",
      "28=Ying \n",
      "29=\n"
     ]
    }
   ],
   "source": [
    "#ying_yang_zing\n",
    "#take range from user\n",
    "#print ying if no is perfectly divisible by 2\n",
    "#print yang if 3\n",
    "#print zing if 5\n",
    "s=int(input(\"Start:\"))\n",
    "e=int(input(\"End:\"))\n",
    "for i in range (s,e):\n",
    "    print(i,end=\"=\")\n",
    "    if i%2==0:\n",
    "        print(\"Ying\",end=\" \")\n",
    "    if i%3==0:\n",
    "        print(\"Yang\",end=\" \")\n",
    "    if i%5==0:\n",
    "        print(\"zing\",end=\" \")\n",
    "    print(\"\")"
   ]
  },
  {
   "cell_type": "code",
   "execution_count": null,
   "metadata": {},
   "outputs": [],
   "source": [
    "while True:\n",
    "    data=int(input(\"Enter no:\"))\n",
    "    if data<0:\n",
    "        print(\"ok bye\")\n",
    "        break"
   ]
  },
  {
   "cell_type": "code",
   "execution_count": null,
   "metadata": {},
   "outputs": [],
   "source": [
    "old=-1\n",
    "while True:\n",
    "    "
   ]
  },
  {
   "cell_type": "code",
   "execution_count": 2,
   "metadata": {},
   "outputs": [
    {
     "name": "stdout",
     "output_type": "stream",
     "text": [
      "x\n",
      "xx\n",
      "xxx\n",
      "xxxx\n",
      "xxxxx\n"
     ]
    }
   ],
   "source": [
    "for i in range (1,6,1):\n",
    "    print(\"x\"*i)"
   ]
  },
  {
   "cell_type": "code",
   "execution_count": 5,
   "metadata": {},
   "outputs": [
    {
     "name": "stdout",
     "output_type": "stream",
     "text": [
      "xxxxxx\n",
      "xxxx\n",
      "xx\n"
     ]
    }
   ],
   "source": [
    "for i in range (6,0,-2):\n",
    "    print(\"x\"*i)"
   ]
  },
  {
   "cell_type": "code",
   "execution_count": 9,
   "metadata": {},
   "outputs": [
    {
     "name": "stdout",
     "output_type": "stream",
     "text": [
      "      x\n",
      "     xx\n",
      "    xxx\n",
      "   xxxx\n",
      "  xxxxx\n"
     ]
    }
   ],
   "source": [
    "for i in range(1,6,1):\n",
    "    print((\" \"*(6-i)),end=\" \")\n",
    "    print(\"x\"*i)"
   ]
  },
  {
   "cell_type": "code",
   "execution_count": 18,
   "metadata": {},
   "outputs": [
    {
     "name": "stdout",
     "output_type": "stream",
     "text": [
      "                                                               Apeksha       \n",
      "                                                        Apeksha       Apeksha       \n",
      "                                                 Apeksha       Apeksha       Apeksha       \n",
      "                                          Apeksha       Apeksha       Apeksha       Apeksha       \n",
      "                                   Apeksha       Apeksha       Apeksha       Apeksha       Apeksha       \n",
      "                            Apeksha       Apeksha       Apeksha       Apeksha       Apeksha       Apeksha       \n",
      "                     Apeksha       Apeksha       Apeksha       Apeksha       Apeksha       Apeksha       Apeksha       \n",
      "              Apeksha       Apeksha       Apeksha       Apeksha       Apeksha       Apeksha       Apeksha       Apeksha       \n"
     ]
    }
   ],
   "source": [
    "n=int(input(\"n=\"))\n",
    "for i in range(1,n,1):\n",
    "    print((\"       \"*(n-i)),end=\"       \")\n",
    "    print(\"Apeksha       \" *i)"
   ]
  },
  {
   "cell_type": "code",
   "execution_count": null,
   "metadata": {},
   "outputs": [],
   "source": [
    "print(\"1.Tea==10\\n2.Coffee==40\\n3.water==20\\n4.confirm\")\n",
    "amt=0\n"
   ]
  }
 ],
 "metadata": {
  "kernelspec": {
   "display_name": "Python 3",
   "language": "python",
   "name": "python3"
  },
  "language_info": {
   "codemirror_mode": {
    "name": "ipython",
    "version": 3
   },
   "file_extension": ".py",
   "mimetype": "text/x-python",
   "name": "python",
   "nbconvert_exporter": "python",
   "pygments_lexer": "ipython3",
   "version": "3.12.7"
  }
 },
 "nbformat": 4,
 "nbformat_minor": 2
}
