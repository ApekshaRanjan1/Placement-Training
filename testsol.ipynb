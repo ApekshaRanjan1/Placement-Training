{
 "cells": [
  {
   "cell_type": "code",
   "execution_count": 3,
   "metadata": {},
   "outputs": [
    {
     "name": "stdout",
     "output_type": "stream",
     "text": [
      "2\n"
     ]
    }
   ],
   "source": [
    "# Word Count\n",
    "# Write a function that takes a string and a word as input, and returns the number of occurences of that word in the string.\n",
    "# The search should be case-insensitive.\n",
    "\n",
    "# Input-Output Examples\n",
    "# Input: \"Hello world, hello!\",\"hello\"\n",
    "# Output: 2\n",
    "\n",
    "# Input: \"This is a test. This test is only a test.\",\"test\"\n",
    "# Output: 3\n",
    "\n",
    "def word(s,w):\n",
    "    so=s.lower()\n",
    "    wo=w.lower()\n",
    "    print(so.count(wo))\n",
    "s1,w1=eval(input())\n",
    "word(s1,w1)\n",
    "    "
   ]
  },
  {
   "cell_type": "code",
   "execution_count": 4,
   "metadata": {},
   "outputs": [
    {
     "name": "stdout",
     "output_type": "stream",
     "text": [
      "True\n"
     ]
    }
   ],
   "source": [
    "# Find Letter\n",
    "# Write a function that checks if a specific letter exists in a given word. The function should return True if\n",
    "# the letter is found and False otherwise.\n",
    "# Input:  hello\n",
    "#         e\n",
    "# Output: True\n",
    "def letter(w,l):\n",
    "    if l in w:\n",
    "        print(\"True\")\n",
    "    else:\n",
    "        print(\"False\")\n",
    "w=input()\n",
    "l=input()\n",
    "letter(w,l)\n",
    "\n",
    "        "
   ]
  },
  {
   "cell_type": "code",
   "execution_count": 16,
   "metadata": {},
   "outputs": [
    {
     "name": "stdout",
     "output_type": "stream",
     "text": [
      "10\n"
     ]
    }
   ],
   "source": [
    "# Sum of digits\n",
    "# Write a function that takes a positive integer and returns the sum of its digits.\n",
    "# Example\n",
    "# If the input is 123, the output should be 6 (1+2+3)\n",
    "def sum(n):\n",
    "    sum=0\n",
    "    while n!=0:\n",
    "        sum+=n%10\n",
    "        n=n//10\n",
    "    print(sum)    \n",
    "n=int(input()) \n",
    "sum(n)   "
   ]
  },
  {
   "cell_type": "code",
   "execution_count": 18,
   "metadata": {},
   "outputs": [
    {
     "name": "stdout",
     "output_type": "stream",
     "text": [
      "12\n"
     ]
    }
   ],
   "source": [
    "# Smallest Integer\n",
    "\n",
    "# Given an unsorted array of integers, write a function to find the smallest integer in that array.\n",
    "# Example\n",
    "# Input: [3, 5, 1, 8, 2]\n",
    "# Output: 1\n",
    "def smallest_integer(a):\n",
    "    a=sorted(a) \n",
    "    return(a[0])  \n",
    "n=eval(input())\n",
    "print(smallest_integer(n))"
   ]
  },
  {
   "cell_type": "code",
   "execution_count": 20,
   "metadata": {},
   "outputs": [
    {
     "name": "stdout",
     "output_type": "stream",
     "text": [
      "378\n"
     ]
    }
   ],
   "source": [
    "# Max Product of Three\n",
    "# Given an array of integers, implement a function to find the maximum product that can be obtained by multiplying any three numbers from the array.\n",
    "# Example\n",
    "# Input: [1, 2, 3]\n",
    "# Output: 6\n",
    "# Input: [1, 2, 3, 4]\n",
    "# Output: 24\n",
    "def pro(a):\n",
    "    a=sorted(a)\n",
    "    return(a[-1]*a[-2]*a[-3])\n",
    "a=eval(input())\n",
    "print(pro(a))"
   ]
  },
  {
   "cell_type": "code",
   "execution_count": null,
   "metadata": {},
   "outputs": [
    {
     "name": "stdout",
     "output_type": "stream",
     "text": [
      "True\n"
     ]
    }
   ],
   "source": [
    "# Anagram Checker\n",
    "\n",
    "# Implement a function are_anagrams(str1, str2) that checks if two strings are anagrams of each other without using sorting\n",
    "\n",
    "# Input: \"listen\", \"silent\"\n",
    "# Output: True\n",
    "def anagram(s1,s2):\n",
    "    if len(s1)!=len(s2):\n",
    "        return False\n",
    "    else:\n",
    "        a=list(s1)\n",
    "        b=list(s2)\n",
    "        for i in range(len(a)): #apeksha\n",
    "            for j in range(len(b)): #keshpaa\n",
    "                if a[i]==b[j]: \n",
    "                    b.pop(j)\n",
    "                    break\n",
    "        if len(b)!=0:\n",
    "            return False   \n",
    "        else:\n",
    "            return True\n",
    "s1,s2=eval(input())\n",
    "anagram(s1,s2)\n",
    "            \n",
    "    \n",
    "    "
   ]
  },
  {
   "cell_type": "code",
   "execution_count": 61,
   "metadata": {},
   "outputs": [
    {
     "name": "stdout",
     "output_type": "stream",
     "text": [
      "True\n"
     ]
    }
   ],
   "source": [
    "s=\"apeksha\"\n",
    "s1=\"keshpa\"\n",
    "\n",
    "            \n",
    "            \n",
    "            \n",
    "            \n",
    "            \n",
    "        \n"
   ]
  },
  {
   "cell_type": "code",
   "execution_count": 56,
   "metadata": {},
   "outputs": [
    {
     "name": "stdout",
     "output_type": "stream",
     "text": [
      "k\n",
      "k\n",
      "['a', 'p', 'e', 'h', 'a']\n"
     ]
    }
   ],
   "source": [
    "b=\"apeksha\"\n",
    "c=b.find(\"k\")\n",
    "l=list(b)\n",
    "\n",
    "print(l[c])\n",
    "print(l.pop(c))\n",
    "l.pop(c)\n",
    "print(l)"
   ]
  },
  {
   "cell_type": "code",
   "execution_count": 44,
   "metadata": {},
   "outputs": [
    {
     "name": "stdout",
     "output_type": "stream",
     "text": [
      "0\n",
      "5\n",
      "1\n",
      "5\n",
      "2\n",
      "5\n",
      "3\n",
      "5\n",
      "4\n",
      "5\n"
     ]
    }
   ],
   "source": [
    "for i in range (5):\n",
    "    print(i)\n",
    "    for j in range(5,10):\n",
    "        if j==6:\n",
    "            break\n",
    "        else:\n",
    "            print(j)"
   ]
  },
  {
   "cell_type": "code",
   "execution_count": 74,
   "metadata": {},
   "outputs": [
    {
     "name": "stdout",
     "output_type": "stream",
     "text": [
      "-1\n"
     ]
    }
   ],
   "source": [
    "# Max Subarray Sum\n",
    "\n",
    "# Given an array of integers, write a function to calculate the maximum sum of any subarray. A subarray is a \n",
    "# contiguous part of any array. You need to return the maximum sum that can be obtained from any contiguous subarray \n",
    "# in the given array.\n",
    "\n",
    "# Input: [1, -2, 3, 4, -1]\n",
    "# Output: 7\n",
    "def subarray(a):\n",
    "    sum=0\n",
    "    a=sorted(a)\n",
    "    if a[-1]<=0:\n",
    "        return a[-1]\n",
    "    for i in range(len(a)):\n",
    "        if a[i]>=0:\n",
    "            sum+=a[i]\n",
    "        else:\n",
    "            continue\n",
    "    return sum  \n",
    "a=eval(input())\n",
    "print(subarray(a))"
   ]
  },
  {
   "cell_type": "code",
   "execution_count": 1,
   "metadata": {},
   "outputs": [
    {
     "name": "stdout",
     "output_type": "stream",
     "text": [
      "14321\n"
     ]
    }
   ],
   "source": [
    "# Digit from array\n",
    "# if the input array is [1, 2, 3] the output should be 123\n",
    "a=eval(input())\n",
    "d=0\n",
    "for i in range(len(a)):\n",
    "    d=(d*10)+a[i]\n",
    "print(d)"
   ]
  },
  {
   "cell_type": "code",
   "execution_count": 82,
   "metadata": {},
   "outputs": [
    {
     "name": "stdout",
     "output_type": "stream",
     "text": [
      "olleh\n"
     ]
    }
   ],
   "source": [
    "# Reverse String\n",
    "# hello\n",
    "# olleh\n",
    "s=input()\n",
    "print(s[::-1])"
   ]
  },
  {
   "cell_type": "code",
   "execution_count": 89,
   "metadata": {},
   "outputs": [
    {
     "name": "stdout",
     "output_type": "stream",
     "text": [
      "21\n"
     ]
    }
   ],
   "source": [
    "# Climbing Stairs\n",
    "\n",
    "# Write a function to determine the number of ways to climb n stairs if you can take 1 or 2 steps at a time.\n",
    "\n",
    "# Input: 2\n",
    "# Output: 2\n",
    "# (Ways: [1+1], [2])\n",
    "def stair(n):\n",
    "    s=0\n",
    "    if n==1:\n",
    "        return 1\n",
    "    elif n==2:\n",
    "        return 2\n",
    "    else:        \n",
    "        a=1\n",
    "        b=2\n",
    "        for i in range (2,n):\n",
    "            r=a+b\n",
    "            a=b\n",
    "            b=r\n",
    "        return r\n",
    "n=int(input())   \n",
    "print(stair(n))      "
   ]
  },
  {
   "cell_type": "code",
   "execution_count": null,
   "metadata": {},
   "outputs": [],
   "source": []
  }
 ],
 "metadata": {
  "kernelspec": {
   "display_name": "Python 3",
   "language": "python",
   "name": "python3"
  },
  "language_info": {
   "codemirror_mode": {
    "name": "ipython",
    "version": 3
   },
   "file_extension": ".py",
   "mimetype": "text/x-python",
   "name": "python",
   "nbconvert_exporter": "python",
   "pygments_lexer": "ipython3",
   "version": "3.12.7"
  }
 },
 "nbformat": 4,
 "nbformat_minor": 2
}
