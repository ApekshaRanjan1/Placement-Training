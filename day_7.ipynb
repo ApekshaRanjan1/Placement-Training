{
 "cells": [
  {
   "cell_type": "markdown",
   "metadata": {},
   "source": [
    "Sites to practise:\n",
    "TCS launchpad\n",
    "codility- vipro platform\n",
    "infytq-infosis\n",
    "wheebox-accenture\n",
    "mettl\n",
    "tcsnqt\n",
    "\n"
   ]
  },
  {
   "cell_type": "code",
   "execution_count": 1,
   "metadata": {},
   "outputs": [
    {
     "name": "stdout",
     "output_type": "stream",
     "text": [
      "bbbbbbbbb\n"
     ]
    }
   ],
   "source": [
    "#replace in string\n",
    "s=\"ababababa\"\n",
    "s1=s.replace(\"a\",\"b\")\n",
    "print(s1)"
   ]
  },
  {
   "cell_type": "code",
   "execution_count": 4,
   "metadata": {},
   "outputs": [
    {
     "name": "stdout",
     "output_type": "stream",
     "text": [
      "abc\n",
      "140734224028112\n",
      "xyz\n",
      "2421151363792\n"
     ]
    }
   ],
   "source": [
    "#immutable: no change in the same memory\n",
    "s=\"abc\"\n",
    "print(s)\n",
    "print(id(s))\n",
    "s=\"xyz\"\n",
    "print(s)\n",
    "print(id(s))"
   ]
  },
  {
   "cell_type": "code",
   "execution_count": 5,
   "metadata": {},
   "outputs": [
    {
     "name": "stdout",
     "output_type": "stream",
     "text": [
      "140734225115864\n",
      "140734225115864\n"
     ]
    }
   ],
   "source": [
    "a=10\n",
    "print(id(a))\n",
    "b=10\n",
    "print(id(b))"
   ]
  },
  {
   "cell_type": "code",
   "execution_count": 15,
   "metadata": {},
   "outputs": [
    {
     "name": "stdout",
     "output_type": "stream",
     "text": [
      "['h', 'i', ',', 'h', 'e', 'l', 'l', 'o', 'a', 'b', 'c', 'x', 'y', 'z']\n",
      "['hi', ',', 'hello', 'abc', 'xyz']\n",
      "hi\n",
      ",\n",
      "hello\n",
      "abc\n",
      "xyz\n"
     ]
    }
   ],
   "source": [
    "#splitting the string\n",
    "s=\"hi , hello abc xyz\"\n",
    "s1=list(s.replace(' ',''))\n",
    "print(s1)\n",
    "sp=s.replace(',', ' ,').split()\n",
    "print(sp)\n",
    "for x in sp:\n",
    "    print(x)\n"
   ]
  },
  {
   "cell_type": "code",
   "execution_count": 19,
   "metadata": {},
   "outputs": [
    {
     "name": "stdout",
     "output_type": "stream",
     "text": [
      "a b c d\n"
     ]
    }
   ],
   "source": [
    "#join function\n",
    "l=['a','b','c','d']\n",
    "s=\" \".join(l)\n",
    "print(s)"
   ]
  },
  {
   "cell_type": "code",
   "execution_count": 22,
   "metadata": {},
   "outputs": [
    {
     "name": "stdout",
     "output_type": "stream",
     "text": [
      "APEKSHA apeksha Apeksha APEKSHA Apeksha\n"
     ]
    }
   ],
   "source": [
    "#case\n",
    "s=\"apeksha\"\n",
    "print(s.upper(),s.lower(),s.capitalize(),s.swapcase(), s.title())"
   ]
  },
  {
   "cell_type": "code",
   "execution_count": 24,
   "metadata": {},
   "outputs": [
    {
     "name": "stdout",
     "output_type": "stream",
     "text": [
      "True\n",
      "True\n",
      "False\n"
     ]
    }
   ],
   "source": [
    "s=\"hi hello abc xyz\"\n",
    "print(s.startswith(\"hi\"))\n",
    "print(s.endswith(\"xyz\"))\n",
    "print(s.endswith(\"abc\"))"
   ]
  },
  {
   "cell_type": "code",
   "execution_count": 25,
   "metadata": {},
   "outputs": [
    {
     "name": "stdout",
     "output_type": "stream",
     "text": [
      ";adssjsdgk\n"
     ]
    }
   ],
   "source": [
    "#reverse\n",
    "s=input()\n",
    "print(s[::-1])"
   ]
  },
  {
   "cell_type": "code",
   "execution_count": 26,
   "metadata": {},
   "outputs": [
    {
     "name": "stdout",
     "output_type": "stream",
     "text": [
      "ajskepa\n"
     ]
    }
   ],
   "source": [
    "#reverse 2\n",
    "s=input()\n",
    "print(''.join(reversed(s)))"
   ]
  },
  {
   "cell_type": "code",
   "execution_count": 45,
   "metadata": {},
   "outputs": [
    {
     "name": "stdout",
     "output_type": "stream",
     "text": [
      "ahskepa\n"
     ]
    }
   ],
   "source": [
    "#rev a string w/o shortcut or inbuilt func\n",
    "s=\"apeksha\"\n",
    "rev=\"\"\n",
    "for x in s:\n",
    "    rev=x+rev\n",
    "print(rev)\n"
   ]
  },
  {
   "cell_type": "code",
   "execution_count": 54,
   "metadata": {},
   "outputs": [
    {
     "name": "stdout",
     "output_type": "stream",
     "text": [
      "xyz abc hello hi  \n"
     ]
    }
   ],
   "source": [
    "s=\"hi hello abc xyz\"\n",
    "s1=s.split()\n",
    "rev=\" \"\n",
    "for x in s1:\n",
    "    rev=x+\" \"+rev\n",
    "print(rev)"
   ]
  },
  {
   "cell_type": "code",
   "execution_count": 65,
   "metadata": {},
   "outputs": [
    {
     "name": "stdout",
     "output_type": "stream",
     "text": [
      "['hi', 'hello', 'abc', 'xyz']\n",
      "ih olleh cba zyx \n"
     ]
    }
   ],
   "source": [
    "s=\"hi hello abc xyz\"\n",
    "s1=s.split()\n",
    "print(s1)\n",
    "rev=\"\"\n",
    "for i in s1:\n",
    "    rev=rev+i[::-1]+\" \"\n",
    "print(rev)"
   ]
  },
  {
   "cell_type": "code",
   "execution_count": 71,
   "metadata": {},
   "outputs": [
    {
     "name": "stdout",
     "output_type": "stream",
     "text": [
      "abcxyz\n"
     ]
    }
   ],
   "source": [
    "#remove dulpicate\n",
    "s=\"abcabcxyz\"\n",
    "r=\"\"\n",
    "for x in s:\n",
    "    if x not in r:\n",
    "        r=r+x\n",
    "print(r)"
   ]
  },
  {
   "cell_type": "code",
   "execution_count": 80,
   "metadata": {},
   "outputs": [
    {
     "name": "stdout",
     "output_type": "stream",
     "text": [
      "Not valid in india\n"
     ]
    }
   ],
   "source": [
    "#accept mob no and check if it is 10 digit no and only has digits. then if it is valid in india or not\n",
    "n=input()\n",
    "if (n.isdigit()):\n",
    "    if (len(n)==10):        \n",
    "        if n.startswith(\"9\") or n.startswith(\"8\") or n.startswith(\"7\") or n.startswith(\"6\"):\n",
    "            print(\"Valid no. in India\")\n",
    "        else:\n",
    "            print(\"Not valid in india\")\n",
    "    else:\n",
    "        print(\"Not enough digits\")\n",
    "else:\n",
    "    print(\"Invalid no.\")\n",
    "    "
   ]
  },
  {
   "cell_type": "code",
   "execution_count": 85,
   "metadata": {},
   "outputs": [
    {
     "name": "stdout",
     "output_type": "stream",
     "text": [
      "[] [] [1, 2, 3, 4]\n",
      "<class 'list'> <class 'list'> <class 'list'>\n"
     ]
    }
   ],
   "source": [
    "#ways to create list\n",
    "l1=[]\n",
    "l2=list()\n",
    "l3=[1,2,3,4]\n",
    "l4=eval(input())\n",
    "print(l1,l2,l3)\n",
    "print(type(l1),type(l2),type(l3))"
   ]
  },
  {
   "cell_type": "code",
   "execution_count": 89,
   "metadata": {},
   "outputs": [
    {
     "name": "stdout",
     "output_type": "stream",
     "text": [
      "<class 'int'>\n"
     ]
    }
   ],
   "source": [
    "#eval\n",
    "l=eval(input())\n",
    "print(type(l))"
   ]
  },
  {
   "cell_type": "code",
   "execution_count": 91,
   "metadata": {},
   "outputs": [
    {
     "name": "stdout",
     "output_type": "stream",
     "text": [
      "0\n",
      "1\n",
      "2\n",
      "3\n",
      "4\n",
      "0\n",
      "1\n",
      "2\n",
      "3\n",
      "4\n",
      "0\n",
      "1\n",
      "2\n",
      "3\n",
      "4\n"
     ]
    }
   ],
   "source": [
    "n=[0,1,2,3,4]\n",
    "i=0\n",
    "while i<len(n):\n",
    "    print(n[i])\n",
    "    i=i+1\n",
    "for i in range(len(n)):\n",
    "    print(n[i])\n",
    "for x in n:\n",
    "    print(x)"
   ]
  },
  {
   "cell_type": "code",
   "execution_count": 96,
   "metadata": {},
   "outputs": [
    {
     "name": "stdout",
     "output_type": "stream",
     "text": [
      "[1, 2, 3, 4, 5, 6]\n",
      "[1, 2, 3, 7, 4, 5, 6]\n"
     ]
    }
   ],
   "source": [
    "#append in inserts at the end\n",
    "#insert func inserts at an index\n",
    "n=[1,2,3,4,5]\n",
    "n.append(6)\n",
    "print(n)\n",
    "n.insert(3,7)\n",
    "print(n)"
   ]
  },
  {
   "cell_type": "code",
   "execution_count": 103,
   "metadata": {},
   "outputs": [
    {
     "name": "stdout",
     "output_type": "stream",
     "text": [
      "['a', 'b', 'c', 'd', 'e']\n",
      "['e', 'd', 'c', 'b', 'a']\n"
     ]
    }
   ],
   "source": [
    "#extend func\n",
    "o1=['a','b','c']\n",
    "o2=['d','e']\n",
    "o1.extend(o2)\n",
    "print(o1)\n",
    "o1.reverse()\n",
    "print(o1)\n"
   ]
  },
  {
   "cell_type": "code",
   "execution_count": 110,
   "metadata": {},
   "outputs": [
    {
     "name": "stdout",
     "output_type": "stream",
     "text": [
      "['c', 'h', 'z'] [2, 4, 5, 26, 32, 42]\n",
      "['z', 'h', 'c']\n"
     ]
    }
   ],
   "source": [
    "#sort\n",
    "a=['h','z','c'] #sorted according to alphabets\n",
    "n=[5,2,4,26,32,42]#sorted according to acsending order\n",
    "a1=sorted(a)\n",
    "a.sort(reverse=True)\n",
    "n1=sorted(n)\n",
    "print(a1,n1)\n",
    "print(a)"
   ]
  },
  {
   "cell_type": "code",
   "execution_count": 114,
   "metadata": {},
   "outputs": [
    {
     "name": "stdout",
     "output_type": "stream",
     "text": [
      "2 \n",
      " [4, 5, 6, [7, 8, 9]] \n",
      " 6 \n",
      " 7\n"
     ]
    }
   ],
   "source": [
    "n=[1,2,[4,5,6,[7,8,9]],10]\n",
    "print(n[1],\"\\n\",n[2],\"\\n\",n[2][2],\"\\n\",n[2][3][0])"
   ]
  },
  {
   "cell_type": "code",
   "execution_count": 119,
   "metadata": {},
   "outputs": [
    {
     "name": "stdout",
     "output_type": "stream",
     "text": [
      "[[10, 20, 30], [20, 30, 40]]\n",
      "[10, 20, 30]\n",
      "[20, 30, 40]\n",
      "10 20 30 \n",
      "20 30 40 \n"
     ]
    }
   ],
   "source": [
    "n=[[10,20,30],[20,30,40]]\n",
    "print(n)\n",
    "for x in n:\n",
    "    print(x)\n",
    "for i in range(len(n)):\n",
    "    for j in range(len(n[i])):\n",
    "        print(n[i][j],end=\" \")\n",
    "    print()"
   ]
  },
  {
   "cell_type": "code",
   "execution_count": 120,
   "metadata": {},
   "outputs": [
    {
     "name": "stdout",
     "output_type": "stream",
     "text": [
      "7\n"
     ]
    }
   ],
   "source": [
    "#max in list w/o shortcuts\n",
    "l=[3,4,6,2,5,7,3]\n",
    "max=l[0]\n",
    "for i in range (len(l)):\n",
    "    if max<l[i]:\n",
    "        max=l[i]\n",
    "print(max)"
   ]
  },
  {
   "cell_type": "code",
   "execution_count": 123,
   "metadata": {},
   "outputs": [
    {
     "name": "stdout",
     "output_type": "stream",
     "text": [
      "[1, 2, 3, 4, 5]\n"
     ]
    }
   ],
   "source": [
    "#remove duplicate\n",
    "a=[1,2,3,3,4,5,4]\n",
    "n=[]\n",
    "for i in a:\n",
    "    if i not in n:\n",
    "        n.append(i)\n",
    "print(n)"
   ]
  },
  {
   "cell_type": "code",
   "execution_count": 129,
   "metadata": {},
   "outputs": [
    {
     "name": "stdout",
     "output_type": "stream",
     "text": [
      "[5, 4, 3, 2, 1]\n"
     ]
    }
   ],
   "source": [
    "#reverse a list\n",
    "l=[1,2,3,4,5]\n",
    "r=[]\n",
    "for i in range(len(l)-1,-1,-1):\n",
    "    r.append(l[i])\n",
    "print(r)"
   ]
  },
  {
   "cell_type": "code",
   "execution_count": 136,
   "metadata": {},
   "outputs": [
    {
     "name": "stdout",
     "output_type": "stream",
     "text": [
      "True\n"
     ]
    }
   ],
   "source": [
    "#palindrome\n",
    "l=[1,4,5,2,2,5,4,1]\n",
    "p=True\n",
    "for i in range(len(l)):\n",
    "    if l[i]==l[len(l)-1-i]:\n",
    "        pass\n",
    "    else:\n",
    "        p=False\n",
    "        break\n",
    "print(p)"
   ]
  },
  {
   "cell_type": "code",
   "execution_count": 137,
   "metadata": {},
   "outputs": [
    {
     "name": "stdout",
     "output_type": "stream",
     "text": [
      "[3, 4]\n"
     ]
    }
   ],
   "source": [
    "#common elements in 2 lists\n",
    "l1=eval(input())\n",
    "l2=eval(input())\n",
    "c=[]\n",
    "for i in l1:\n",
    "    if i in l2:\n",
    "        c.append(i)\n",
    "print(c)     "
   ]
  },
  {
   "cell_type": "code",
   "execution_count": 139,
   "metadata": {},
   "outputs": [
    {
     "name": "stdout",
     "output_type": "stream",
     "text": [
      "[212, 321, 234, 4556, 1231]\n"
     ]
    }
   ],
   "source": [
    "#map func\n",
    "# a,b=map(int, input().split())\n",
    "a=list(map(int,input().split()))\n",
    "print(a)"
   ]
  },
  {
   "cell_type": "code",
   "execution_count": 141,
   "metadata": {},
   "outputs": [
    {
     "name": "stdout",
     "output_type": "stream",
     "text": [
      "10\n"
     ]
    }
   ],
   "source": [
    "#sum of list elements\n",
    "l=list(map(int,input().split()))\n",
    "sum=0\n",
    "for i in l:\n",
    "    sum=sum+i\n",
    "print(sum)\n",
    "    "
   ]
  },
  {
   "cell_type": "code",
   "execution_count": null,
   "metadata": {},
   "outputs": [
    {
     "name": "stdout",
     "output_type": "stream",
     "text": [
      "[3, 5, 6]\n"
     ]
    }
   ],
   "source": [
    "#take values into list\n",
    "l=eval(input())\n",
    "r=eval(input())\n",
    "res=[]\n",
    "for i in l:\n",
    "    if i==r:\n",
    "        pass\n",
    "    else:\n",
    "        res.append(i)\n",
    "print(res)      "
   ]
  },
  {
   "cell_type": "code",
   "execution_count": 3,
   "metadata": {},
   "outputs": [
    {
     "ename": "SyntaxError",
     "evalue": "invalid syntax (<string>, line 0)",
     "output_type": "error",
     "traceback": [
      "Traceback \u001b[1;36m(most recent call last)\u001b[0m:\n",
      "\u001b[0m  File \u001b[0;32m~\\AppData\\Roaming\\Python\\Python312\\site-packages\\IPython\\core\\interactiveshell.py:3577\u001b[0m in \u001b[0;35mrun_code\u001b[0m\n    exec(code_obj, self.user_global_ns, self.user_ns)\u001b[0m\n",
      "\u001b[1;36m  Cell \u001b[1;32mIn[3], line 2\u001b[1;36m\n\u001b[1;33m    l=eval(input())\u001b[1;36m\n",
      "\u001b[1;36m  File \u001b[1;32m<string>\u001b[1;36m\u001b[0m\n\u001b[1;33m    \u001b[0m\n\u001b[1;37m    ^\u001b[0m\n\u001b[1;31mSyntaxError\u001b[0m\u001b[1;31m:\u001b[0m invalid syntax\n"
     ]
    }
   ],
   "source": [
    "#find duplicate elements\n",
    "l=eval(input())\n",
    "print(l)\n",
    "d=[]\n",
    "for i in range(len(l)):\n",
    "    for j in range(i+1,len(l)):\n",
    "        if l[i]==l[j]:\n",
    "            if l[i] not in d:\n",
    "                d.append(l[i])\n",
    "print(d)"
   ]
  },
  {
   "cell_type": "code",
   "execution_count": 11,
   "metadata": {},
   "outputs": [
    {
     "name": "stdout",
     "output_type": "stream",
     "text": [
      "False\n"
     ]
    }
   ],
   "source": [
    "#anagram\n",
    "def anagram(s1,s2):\n",
    "    l1=list(s1)\n",
    "    l2=list(s2)\n",
    "    if len(l1)!=len(l2):\n",
    "        print(False)\n",
    "    else:\n",
    "        for i in range(len(l1)):\n",
    "            for j in range(len(l2)):\n",
    "                if l1[i]==l2[j]:\n",
    "                    l2.pop(j)\n",
    "                    break\n",
    "        if len(l2)==0:\n",
    "            print(True)\n",
    "        else:\n",
    "            print(False)\n",
    "s1=input().lower()\n",
    "s2=input().lower()\n",
    "anagram(s1,s2)        "
   ]
  },
  {
   "cell_type": "code",
   "execution_count": 13,
   "metadata": {},
   "outputs": [
    {
     "name": "stdout",
     "output_type": "stream",
     "text": [
      "[3, -1, 4, 4]\n"
     ]
    }
   ],
   "source": [
    "#next larger elments\n",
    "# n=4\n",
    "# a=[1,3,2,4]\n",
    "# output: 3 4 4 -1\n",
    "n=int(input())\n",
    "l=eval(input())\n",
    "o=[]\n",
    "for i in range(len(l)):\n",
    "    for j in range(i+1,len(l)):\n",
    "        if l[i]<l[j]:\n",
    "            o.append(l[j])\n",
    "            break\n",
    "        else:\n",
    "            o.append(-1)\n",
    "print(o)\n",
    "\n"
   ]
  },
  {
   "cell_type": "code",
   "execution_count": null,
   "metadata": {},
   "outputs": [
    {
     "name": "stdout",
     "output_type": "stream",
     "text": [
      "quick brown\n",
      "3 7\n"
     ]
    }
   ],
   "source": [
    "#count vowels and consonents\n",
    "s=input().lower()\n",
    "print(s)\n",
    "v=0\n",
    "c=0\n",
    "l=list(s)\n",
    "for i in l:\n",
    "    if i in 'aeiou':\n",
    "        v+=1\n",
    "    elif i==\" \":\n",
    "        continue\n",
    "    else:\n",
    "        c+=1\n",
    "print(v,c)\n",
    "    \n",
    "    "
   ]
  },
  {
   "cell_type": "code",
   "execution_count": null,
   "metadata": {},
   "outputs": [],
   "source": [
    "#pangram: all letter of alphbet\n",
    "s=input()\n",
    "s.lower()\n",
    "s=list(s)\n",
    "print(s)\n",
    "b='abcdefghijklmnopqrstuvwxyz'\n",
    "a=list(b)\n",
    "print(a)\n",
    "l=0\n",
    "for i in range(len(s)):\n",
    "    if s[i] in a: \n",
    "        a.remove(s[i])\n",
    "print(a)\n",
    "if len(a)==0:\n",
    "    print(\"Pangram\")\n",
    "else:\n",
    "    print(\"No\")       "
   ]
  },
  {
   "cell_type": "code",
   "execution_count": 2,
   "metadata": {},
   "outputs": [
    {
     "name": "stdout",
     "output_type": "stream",
     "text": [
      "heloohoneybunny\n"
     ]
    }
   ],
   "source": [
    "#remove white spaces in a sentense\n",
    "s=input()\n",
    "res=\"\"\n",
    "for i in s:\n",
    "    if i==\" \":\n",
    "        pass\n",
    "    else:\n",
    "        res=res+i\n",
    "print(res)"
   ]
  },
  {
   "cell_type": "code",
   "execution_count": 2,
   "metadata": {},
   "outputs": [
    {
     "name": "stdout",
     "output_type": "stream",
     "text": [
      "3\n"
     ]
    }
   ],
   "source": [
    "# count no of words\n",
    "s=input()\n",
    "r=1\n",
    "for i in s:\n",
    "    if i==\" \":\n",
    "        r+=1\n",
    "print(r)"
   ]
  },
  {
   "cell_type": "code",
   "execution_count": null,
   "metadata": {},
   "outputs": [],
   "source": [
    "#[1 2 3]\n",
    "s=input().replace(\" \",', ')"
   ]
  },
  {
   "cell_type": "code",
   "execution_count": null,
   "metadata": {},
   "outputs": [],
   "source": []
  }
 ],
 "metadata": {
  "kernelspec": {
   "display_name": "Python 3",
   "language": "python",
   "name": "python3"
  },
  "language_info": {
   "codemirror_mode": {
    "name": "ipython",
    "version": 3
   },
   "file_extension": ".py",
   "mimetype": "text/x-python",
   "name": "python",
   "nbconvert_exporter": "python",
   "pygments_lexer": "ipython3",
   "version": "3.12.7"
  }
 },
 "nbformat": 4,
 "nbformat_minor": 2
}
