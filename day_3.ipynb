{
 "cells": [
  {
   "cell_type": "code",
   "execution_count": 2,
   "metadata": {},
   "outputs": [
    {
     "name": "stdout",
     "output_type": "stream",
     "text": [
      "The last digit of 1231254 is 4\n"
     ]
    }
   ],
   "source": [
    "#find last digit\n",
    "n=int(input(\"No:\"))\n",
    "print(\"The last digit of\",n,\"is\",n%10)\n"
   ]
  },
  {
   "cell_type": "code",
   "execution_count": 3,
   "metadata": {},
   "outputs": [
    {
     "name": "stdout",
     "output_type": "stream",
     "text": [
      "Sum of digits of  56 is 11\n"
     ]
    }
   ],
   "source": [
    "# sum of 2 digit no\n",
    "#45 separate 4 and 5 and then add\n",
    "n=int(input(\"No:\"))\n",
    "print(\"Sum of digits of\",n, \"is\", (n%10)+(n//10))\n"
   ]
  },
  {
   "cell_type": "code",
   "execution_count": 10,
   "metadata": {},
   "outputs": [
    {
     "name": "stdout",
     "output_type": "stream",
     "text": [
      "Sum of digits of 12345 is 15\n"
     ]
    }
   ],
   "source": [
    "#sum of any digit no\n",
    "n=int(input(\"No:\"))\n",
    "n1=n\n",
    "sum=0\n",
    "while n!=0:\n",
    "    x=n%10\n",
    "    sum=sum+x\n",
    "    n=n//10\n",
    "print(\"Sum of digits of\",n1, \"is\",sum )"
   ]
  },
  {
   "cell_type": "code",
   "execution_count": 12,
   "metadata": {},
   "outputs": [
    {
     "name": "stdout",
     "output_type": "stream",
     "text": [
      "Reverse of 345 is 543\n"
     ]
    }
   ],
   "source": [
    "#reverse of 3 digit no\n",
    "#456\n",
    "#456%10=6\n",
    "#6*100=600\n",
    "#456//10=45\n",
    "#45%10=5\n",
    "#5*10=5\n",
    "n=int(input(\"No:\"))\n",
    "rev=0\n",
    "n1=n%10\n",
    "rev=rev+(n1*100)\n",
    "n2=n//10\n",
    "n3=n2%10\n",
    "rev=rev+(n3*10)\n",
    "n4= n2//10\n",
    "n5=n4%10\n",
    "rev=rev+(n5)\n",
    "\n",
    "print(\"Reverse of\",n, \"is\", rev)"
   ]
  },
  {
   "cell_type": "code",
   "execution_count": 19,
   "metadata": {},
   "outputs": [
    {
     "name": "stdout",
     "output_type": "stream",
     "text": [
      "sum: 10\n"
     ]
    }
   ],
   "source": [
    "#sum of first and last digit no of 6 digit no\n",
    "n=int(input(\"No:\"))\n",
    "print(\"sum:\",(n//10**5)+(n%10))"
   ]
  },
  {
   "cell_type": "code",
   "execution_count": 20,
   "metadata": {},
   "outputs": [
    {
     "name": "stdout",
     "output_type": "stream",
     "text": [
      "before sawpping a= 10 b= 20\n",
      "before sawpping a= 20 b= 10\n"
     ]
    }
   ],
   "source": [
    "#short cut for swwapping\n",
    "a=10\n",
    "b=20\n",
    "print(\"before sawpping a=\",a,\"b=\",b)\n",
    "a,b=b,a\n",
    "print(\"before sawpping a=\",a,\"b=\",b)"
   ]
  },
  {
   "cell_type": "code",
   "execution_count": 23,
   "metadata": {},
   "outputs": [
    {
     "name": "stdout",
     "output_type": "stream",
     "text": [
      "(2+3j)\n",
      "(1+1j)\n",
      "(1+0j)\n",
      "1j\n",
      "0j\n"
     ]
    }
   ],
   "source": [
    "#complex function\n",
    "print(complex(2,3))\n",
    "print(complex(True,True))\n",
    "print(complex(True, False))\n",
    "print(complex(False,True))\n",
    "print(complex(False, False))"
   ]
  },
  {
   "cell_type": "code",
   "execution_count": 68,
   "metadata": {},
   "outputs": [
    {
     "name": "stdout",
     "output_type": "stream",
     "text": [
      "Reverse is 654\n"
     ]
    }
   ],
   "source": [
    "#reverse the no with loop\n",
    "#456%10=6\n",
    "#r=r*10\n",
    "n=int(input(\"No:\"))\n",
    "r=0\n",
    "while n!=0:\n",
    "    r=r*10+(n%10)\n",
    "    n=n//10\n",
    "print(\"Reverse is\",r)\n",
    "    \n",
    "      \n"
   ]
  },
  {
   "cell_type": "code",
   "execution_count": 74,
   "metadata": {},
   "outputs": [
    {
     "name": "stdout",
     "output_type": "stream",
     "text": [
      "No of digits in 222222 is 6\n",
      "Sum: 12\n",
      "Product: 64\n"
     ]
    }
   ],
   "source": [
    "#count the no of digits\n",
    "#456//10\n",
    "c+=1\n",
    "#45\n",
    "\n",
    "n=int(input(\"No:\"))\n",
    "n1=n\n",
    "c=0\n",
    "sum=0\n",
    "mul=1\n",
    "while n!=0:\n",
    "    sum+=n%10\n",
    "    mul*=n%10\n",
    "    n=n//10\n",
    "    c+=1\n",
    "print(\"No of digits in\",n1,\"is\",c)\n",
    "print(\"Sum:\",sum)\n",
    "print(\"Product:\",mul)\n",
    "\n",
    "    "
   ]
  },
  {
   "cell_type": "code",
   "execution_count": 24,
   "metadata": {},
   "outputs": [
    {
     "name": "stdout",
     "output_type": "stream",
     "text": [
      "False\n",
      "True\n"
     ]
    }
   ],
   "source": [
    "#is ans is not\n",
    "a=10\n",
    "b=10\n",
    "print (a is not b)\n",
    "x=True\n",
    "y=True\n",
    "print(x is y)"
   ]
  },
  {
   "cell_type": "code",
   "execution_count": 76,
   "metadata": {},
   "outputs": [
    {
     "name": "stdout",
     "output_type": "stream",
     "text": [
      "Factorial of 5 is 120\n"
     ]
    }
   ],
   "source": [
    "#factorial\n",
    "n=int(input(\"No:\"))\n",
    "n1=n\n",
    "fact=1\n",
    "while n>0:\n",
    "    fact=fact*n\n",
    "    n=n-1\n",
    "print(\"Factorial of\",n1,\"is\",fact)\n",
    "    "
   ]
  },
  {
   "cell_type": "code",
   "execution_count": 27,
   "metadata": {},
   "outputs": [
    {
     "name": "stdout",
     "output_type": "stream",
     "text": [
      "True\n",
      "False\n",
      "True\n",
      "False\n"
     ]
    }
   ],
   "source": [
    "x=\"hello learniugn python is very easy!\"\n",
    "print('h' in x)\n",
    "print('java' in x)\n",
    "print('d' not in x)\n",
    "print('Python' in x)\n"
   ]
  },
  {
   "cell_type": "code",
   "execution_count": 29,
   "metadata": {},
   "outputs": [
    {
     "name": "stdout",
     "output_type": "stream",
     "text": [
      "1374\n"
     ]
    }
   ],
   "source": [
    "#eval function\n",
    "res=eval(input(\"No:\"))\n",
    "print(res)"
   ]
  },
  {
   "cell_type": "code",
   "execution_count": 31,
   "metadata": {},
   "outputs": [
    {
     "name": "stdout",
     "output_type": "stream",
     "text": [
      "Ashish\n",
      "helloworld\n",
      "hello\n",
      "world\n",
      "hello\tworld\n",
      "hellohellohellohello\n",
      "hellohellohellohello\n"
     ]
    }
   ],
   "source": [
    "s=\"Ashish\"\n",
    "print(s)\n",
    "print(\"hello\"+\"world\")\n",
    "print(\"hello\\nworld\")\n",
    "print(\"hello\\tworld\")\n",
    "print(\"hello\"*4)\n",
    "print(4*\"hello\")\n"
   ]
  },
  {
   "cell_type": "code",
   "execution_count": 32,
   "metadata": {},
   "outputs": [
    {
     "name": "stdout",
     "output_type": "stream",
     "text": [
      "10\n",
      "20\n",
      "30\n",
      "10 20 30\n",
      "10,20,30\n",
      "10:20:30\n"
     ]
    }
   ],
   "source": [
    "a,b,c=10,20,30\n",
    "print(a)\n",
    "print(b)\n",
    "print(c)\n",
    "print(a,b,c)\n",
    "print(a,b,c,sep=\",\")\n",
    "print(a,b,c,sep=\":\")\n",
    "\n",
    "\n"
   ]
  },
  {
   "cell_type": "code",
   "execution_count": 33,
   "metadata": {},
   "outputs": [
    {
     "name": "stdout",
     "output_type": "stream",
     "text": [
      "Hello Ashish Sir\n"
     ]
    }
   ],
   "source": [
    "print(\"Hello\",end=\" \")\n",
    "print(\"Ashish\",end=\" \")\n",
    "print(\"Sir\")"
   ]
  },
  {
   "cell_type": "code",
   "execution_count": 35,
   "metadata": {},
   "outputs": [
    {
     "name": "stdout",
     "output_type": "stream",
     "text": [
      "a value is 10\n",
      "b value is 20 and c value is 30\n"
     ]
    }
   ],
   "source": [
    "a=10\n",
    "b=20\n",
    "c=30\n",
    "print(\"a value is %i\" %a)\n",
    "print(\"b value is %d and c value is %d\" %(b,c))"
   ]
  },
  {
   "cell_type": "code",
   "execution_count": 36,
   "metadata": {},
   "outputs": [
    {
     "name": "stdout",
     "output_type": "stream",
     "text": [
      "hello Vijay your salary is 30000 and company is TCS\n",
      "hello Vijay your salary is 30000 and company is TCS\n"
     ]
    }
   ],
   "source": [
    "name=\"Vijay\"\n",
    "salary=30000\n",
    "company=\"TCS\"\n",
    "print(\"hello {0} your salary is {1} and company is {2}\".format(name, salary, company))\n",
    "print(\"hello {x} your salary is {y} and company is {z}\".format(x=name, y=salary, z=company))"
   ]
  },
  {
   "cell_type": "code",
   "execution_count": 39,
   "metadata": {},
   "outputs": [
    {
     "name": "stdout",
     "output_type": "stream",
     "text": [
      "43\n"
     ]
    }
   ],
   "source": [
    "#simple if\n",
    "#accept 5 nos, and find max no using simple if\n",
    "n1,n2,n3,n4,n5=int(input(\"Enter 5 nos:\")), int(input()),int(input()),int(input()),int(input())\n",
    "max=0\n",
    "if n1>max:\n",
    "    max=n1\n",
    "if n2>max:\n",
    "    max=n2\n",
    "if n3>max:\n",
    "    max=n3\n",
    "if n4>max:\n",
    "    max=n4\n",
    "if n5>max:\n",
    "    max=n5\n",
    "print(max)\n",
    "  "
   ]
  },
  {
   "cell_type": "code",
   "execution_count": 51,
   "metadata": {},
   "outputs": [
    {
     "name": "stdout",
     "output_type": "stream",
     "text": [
      "Total marks: 418\n",
      "Percentage: 83.6 %\n",
      "You pass\n"
     ]
    }
   ],
   "source": [
    "#accept 5 paper marks, total and %age\n",
    "#accept gender, check if female, %age<=82, %<=62 male can take admission\n",
    "m1,m2,m3,m4,m5=int(input()),int(input()),int(input()),int(input()),int(input())\n",
    "print(\"Total marks:\",m1+m2+m3+m4+m5)\n",
    "p=(m1+m2+m3+m4+m5)/5\n",
    "print(\"Percentage:\",p,\"%\")\n",
    "g=input(\"Gender: M/F\")\n",
    "if g==\"m\" and p>=62:\n",
    "    print(\"You pass\")\n",
    "elif g=='f' and p>=82:\n",
    "    print(\"You pass\")\n",
    "else:\n",
    "    print(\"You fail\")"
   ]
  },
  {
   "cell_type": "code",
   "execution_count": 54,
   "metadata": {},
   "outputs": [
    {
     "name": "stdout",
     "output_type": "stream",
     "text": [
      "Uppercase\n"
     ]
    }
   ],
   "source": [
    "#ord fuction used to get ascii value\n",
    "#chr to convert asciicheck if character is uppercase, lowecase,special symbol\n",
    "#a=97,b=98.....z=122\n",
    "#A=65, B=66......Z=90\n",
    "#0=48,1=49....9=57\n",
    "ch=input(\"Enter character:\")\n",
    "ch=ord(ch)\n",
    "if ch>=65 and ch<=90:\n",
    "    print(\"Uppercase\")\n",
    "elif ch>=97 and ch<=122:\n",
    "    print(\"Lowercase\")\n",
    "elif ch>=48 and ch<=57:\n",
    "    print(\"Digit\")\n",
    "else:\n",
    "    print(\"Special Symbol\")\n"
   ]
  },
  {
   "cell_type": "code",
   "execution_count": 60,
   "metadata": {},
   "outputs": [
    {
     "name": "stdout",
     "output_type": "stream",
     "text": [
      "---Bill---\n",
      "Total Amount: 600\n",
      "Discount: 10 %\n",
      "Amount Saved: 60.0\n",
      "New Amount: 540.0\n"
     ]
    }
   ],
   "source": [
    "#wap to accept price from user and ask if they are student. if user is student and cost is >500, discount 10% or discount 5%\n",
    "#not student, >500, dis=8% otherwise 2%\n",
    "c=int(input(\"Enter Cost:\"))\n",
    "s=input(\"Student? Y/N\")\n",
    "if s=='y':\n",
    "    if c>500:\n",
    "        d=10\n",
    "    else:\n",
    "        d=5\n",
    "else:\n",
    "    if c>500:\n",
    "        d=8\n",
    "    else:\n",
    "        d=2\n",
    "print(\"---Bill---\")\n",
    "print(\"Total Amount:\",c)\n",
    "print(\"Discount:\",d,\"%\")\n",
    "print(\"Amount Saved:\",(d/100)*c)\n",
    "print(\"New Amount:\",c-((d/100)*c))"
   ]
  },
  {
   "cell_type": "code",
   "execution_count": 65,
   "metadata": {},
   "outputs": [
    {
     "name": "stdout",
     "output_type": "stream",
     "text": [
      "50\n"
     ]
    }
   ],
   "source": [
    "count=0\n",
    "count+=1\n",
    "count+=1\n",
    "count+=1\n",
    "count+=1\n",
    "count+=1\n",
    "count+=1\n",
    "count+=1\n",
    "count+=1\n",
    "count+=1\n",
    "count+=1\n",
    "count+=1\n",
    "count+=1\n",
    "count+=1\n",
    "count+=1\n",
    "count+=1\n",
    "count+=1\n",
    "count+=1\n",
    "count+=1\n",
    "count+=1\n",
    "count+=1\n",
    "count+=1\n",
    "count+=1\n",
    "count+=1\n",
    "count+=1\n",
    "count+=1\n",
    "count+=1\n",
    "count+=1\n",
    "count+=1\n",
    "count+=1\n",
    "count+=1\n",
    "count+=1\n",
    "count+=1\n",
    "count+=1\n",
    "count+=1\n",
    "count+=1\n",
    "count+=1\n",
    "count+=1\n",
    "count+=1\n",
    "count+=1\n",
    "count+=1\n",
    "count+=1\n",
    "count+=1\n",
    "count+=1\n",
    "count+=1\n",
    "count+=1\n",
    "count+=1\n",
    "count+=1\n",
    "count+=1\n",
    "count+=1\n",
    "count+=1\n",
    "print(count)\n"
   ]
  },
  {
   "cell_type": "code",
   "execution_count": 58,
   "metadata": {},
   "outputs": [
    {
     "name": "stdout",
     "output_type": "stream",
     "text": [
      "Not leap year\n"
     ]
    }
   ],
   "source": [
    "#to check if year if leap year and century or non century leap year\n",
    "y=int(input(\"Year:\"))\n",
    "if y%4==0:\n",
    "    print(\"leap year\")\n",
    "    if y%400==0:\n",
    "        print(\"Century leap year\")\n",
    "    else:\n",
    "        print(\"Non century leap year\")\n",
    "else:\n",
    "    print(\"Not leap year\")"
   ]
  },
  {
   "cell_type": "code",
   "execution_count": 90,
   "metadata": {},
   "outputs": [
    {
     "name": "stdout",
     "output_type": "stream",
     "text": [
      "No of digits: 3\n",
      "153 is an Armstrong no.\n"
     ]
    }
   ],
   "source": [
    "#armstong no=sum of the digits raised to the no of digits\n",
    "#153=1^3+5^3+3^3\n",
    "n=int(input(\"No:\"))\n",
    "n1=n\n",
    "ncopy=n\n",
    "c=0\n",
    "while n!=0:\n",
    "    n=n//10\n",
    "    c+=1\n",
    "print(\"No of digits:\",c)\n",
    "x=1\n",
    "sum=0\n",
    "while n1!=0:\n",
    "    x=(n1%10)**c\n",
    "    sum+=x\n",
    "    n1=n1//10\n",
    "if sum==ncopy:\n",
    "    print(ncopy,\"is an Armstrong no.\")\n",
    "else:\n",
    "    print(\"Not a armstrong no.\")\n",
    "    \n",
    "\n",
    "    "
   ]
  },
  {
   "cell_type": "code",
   "execution_count": 95,
   "metadata": {},
   "outputs": [
    {
     "name": "stdout",
     "output_type": "stream",
     "text": [
      "1\n",
      "2\n",
      "3\n",
      "4\n",
      "5\n",
      "6\n",
      "7\n",
      "8\n",
      "9\n",
      "153\n",
      "370\n",
      "371\n",
      "407\n",
      "1634\n",
      "8208\n",
      "9474\n",
      "54748\n",
      "92727\n",
      "93084\n",
      "548834\n",
      "1741725\n",
      "4210818\n",
      "9800817\n",
      "9926315\n",
      "24678050\n",
      "24678051\n",
      "88593477\n",
      "146511208\n"
     ]
    },
    {
     "ename": "KeyboardInterrupt",
     "evalue": "",
     "output_type": "error",
     "traceback": [
      "\u001b[1;31m---------------------------------------------------------------------------\u001b[0m",
      "\u001b[1;31mKeyboardInterrupt\u001b[0m                         Traceback (most recent call last)",
      "Cell \u001b[1;32mIn[95], line 11\u001b[0m\n\u001b[0;32m      9\u001b[0m x\u001b[38;5;241m=\u001b[39m\u001b[38;5;241m1\u001b[39m\n\u001b[0;32m     10\u001b[0m \u001b[38;5;28msum\u001b[39m\u001b[38;5;241m=\u001b[39m\u001b[38;5;241m0\u001b[39m\n\u001b[1;32m---> 11\u001b[0m \u001b[38;5;28;01mwhile\u001b[39;00m n1\u001b[38;5;241m!=\u001b[39m\u001b[38;5;241m0\u001b[39m:\n\u001b[0;32m     12\u001b[0m     x\u001b[38;5;241m=\u001b[39m(n1\u001b[38;5;241m%\u001b[39m\u001b[38;5;241m10\u001b[39m)\u001b[38;5;241m*\u001b[39m\u001b[38;5;241m*\u001b[39mc\n\u001b[0;32m     13\u001b[0m     \u001b[38;5;28msum\u001b[39m\u001b[38;5;241m+\u001b[39m\u001b[38;5;241m=\u001b[39mx\n",
      "\u001b[1;31mKeyboardInterrupt\u001b[0m: "
     ]
    }
   ],
   "source": [
    "#list armstrong no\n",
    "for n in range(1,1000000000000000000):\n",
    "    n1=n\n",
    "    ncopy=n\n",
    "    c=0\n",
    "    while n!=0:\n",
    "        n=n//10\n",
    "        c+=1\n",
    "    x=1\n",
    "    sum=0\n",
    "    while n1!=0:\n",
    "        x=(n1%10)**c\n",
    "        sum+=x\n",
    "        n1=n1//10\n",
    "    if sum==ncopy:\n",
    "        print(ncopy)\n",
    "    "
   ]
  },
  {
   "cell_type": "code",
   "execution_count": 99,
   "metadata": {},
   "outputs": [
    {
     "name": "stdout",
     "output_type": "stream",
     "text": [
      "Reverse is 6006\n",
      "6006 is a palindrome\n"
     ]
    }
   ],
   "source": [
    "#check no is palindrome\n",
    "n=int(input(\"No:\"))\n",
    "n1=n\n",
    "r=0\n",
    "while n!=0:\n",
    "    r=r*10+(n%10)\n",
    "    n=n//10\n",
    "print(\"Reverse is\",r)\n",
    "if r==n1: \n",
    "    print(n1,\"is a palindrome\")\n",
    "else:\n",
    "    print(n1,\"is not a palindrome\")"
   ]
  },
  {
   "cell_type": "code",
   "execution_count": 112,
   "metadata": {},
   "outputs": [
    {
     "name": "stdout",
     "output_type": "stream",
     "text": [
      "145\n",
      "145 is peterson\n"
     ]
    }
   ],
   "source": [
    "#no is peterson \n",
    "#sum of factorials of each digit =no itself\n",
    "#145=1!+4!+5!\n",
    "#145%10=5\n",
    "#5>0\n",
    "#f=1\n",
    "n=int(input(\"No:\"))\n",
    "n1=n\n",
    "sum=0\n",
    "while n!=0:\n",
    "    x=n%10 \n",
    "    fact=1\n",
    "    while x>0:\n",
    "        fact=fact*x\n",
    "        x=x-1\n",
    "    sum+=fact\n",
    "    n=n//10  \n",
    "print(sum) \n",
    "if n1==sum:\n",
    "    print(n1,\"is peterson\")\n",
    "else:\n",
    "    print(\"no\")\n",
    "    "
   ]
  },
  {
   "cell_type": "code",
   "execution_count": 117,
   "metadata": {},
   "outputs": [
    {
     "name": "stdout",
     "output_type": "stream",
     "text": [
      "1 is peterson\n",
      "2 is peterson\n",
      "145 is peterson\n",
      "40585 is peterson\n"
     ]
    }
   ],
   "source": [
    "#list all peterson no\n",
    "for n in range (1,10000000):\n",
    "    n1=n\n",
    "    sum=0\n",
    "    while n!=0:\n",
    "        x=n%10 \n",
    "        fact=1\n",
    "        while x>0:\n",
    "            fact=fact*x\n",
    "            x=x-1\n",
    "        sum+=fact\n",
    "        n=n//10  \n",
    "    if n1==sum:\n",
    "        print(n1,\"is peterson\")\n"
   ]
  },
  {
   "cell_type": "code",
   "execution_count": 125,
   "metadata": {},
   "outputs": [
    {
     "name": "stdout",
     "output_type": "stream",
     "text": [
      "Automorphic\n"
     ]
    }
   ],
   "source": [
    "#automorphic no=square of no ends with no itself\n",
    "n=int(input(\"No:\"))\n",
    "n1=n\n",
    "c=0\n",
    "while n!=0:\n",
    "    n=n//10\n",
    "    c+=1\n",
    "sq=n1**2\n",
    "if sq%(10**c)==n1:\n",
    "    print(\"Automorphic\")\n",
    "else:\n",
    "    print(\"no\")\n",
    "    "
   ]
  },
  {
   "cell_type": "code",
   "execution_count": 130,
   "metadata": {},
   "outputs": [
    {
     "name": "stdout",
     "output_type": "stream",
     "text": [
      "1\n",
      "5\n",
      "6\n",
      "25\n",
      "76\n",
      "376\n",
      "625\n",
      "9376\n",
      "90625\n"
     ]
    }
   ],
   "source": [
    "#list all the automorphic no\n",
    "for n in range(1,100000):\n",
    "    n1=n\n",
    "    c=0\n",
    "    while n!=0:\n",
    "        n=n//10\n",
    "        c+=1\n",
    "    sq=n1**2\n",
    "    if sq%(10**c)==n1:\n",
    "        print(n1)"
   ]
  },
  {
   "cell_type": "code",
   "execution_count": 4,
   "metadata": {},
   "outputs": [
    {
     "name": "stdout",
     "output_type": "stream",
     "text": [
      "No of digits of 9801 : 4\n",
      "9801 is a tech no\n"
     ]
    }
   ],
   "source": [
    "#tech no \n",
    "#2025 part in middle so 20 and 25\n",
    "#add them so 45\n",
    "#square it\n",
    "#2025\n",
    "# Tech Number\n",
    "# A number is called a tech number if the given number has an even number of digits and \n",
    "# the number can be divided exactly into two parts from the middle.\n",
    "# After equally dividing the number, sum up the numbers and find the square of the sum.\n",
    "# if we get the number itself as square, the given number is a tech number,\n",
    "# else, not a tech number.\n",
    "\n",
    "# for example, 2025 is a tech number.\n",
    "# 2025= 20  25\n",
    "# 20+25=45\n",
    "# 45*45=2025\n",
    "n=int(input(\"No:\"))\n",
    "n1=n\n",
    "c=0\n",
    "while n!=0:\n",
    "    n=n//10\n",
    "    c+=1\n",
    "print(\"No of digits of\",n1,\":\",c)\n",
    "if c%2!=0:\n",
    "    print(n1,\"cannot be a tech no.\")\n",
    "else:\n",
    "    rear=n1%(10**(c/2))\n",
    "    front=n1//(10**(c/2))\n",
    "    sum=rear+front\n",
    "    sq=sum**2\n",
    "if sq==n1:\n",
    "    print(n1,\"is a tech no\")\n",
    "\n",
    "    "
   ]
  },
  {
   "cell_type": "code",
   "execution_count": null,
   "metadata": {},
   "outputs": [],
   "source": []
  }
 ],
 "metadata": {
  "kernelspec": {
   "display_name": "Python 3",
   "language": "python",
   "name": "python3"
  },
  "language_info": {
   "codemirror_mode": {
    "name": "ipython",
    "version": 3
   },
   "file_extension": ".py",
   "mimetype": "text/x-python",
   "name": "python",
   "nbconvert_exporter": "python",
   "pygments_lexer": "ipython3",
   "version": "3.12.7"
  }
 },
 "nbformat": 4,
 "nbformat_minor": 2
}
